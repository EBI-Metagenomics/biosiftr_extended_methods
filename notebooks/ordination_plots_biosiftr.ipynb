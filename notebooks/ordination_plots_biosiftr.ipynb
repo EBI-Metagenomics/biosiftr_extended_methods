{
 "cells": [
  {
   "cell_type": "raw",
   "id": "d67cf0fc-4624-4036-a54a-7dc67a7f3369",
   "metadata": {
    "tags": []
   },
   "source": [
    "---\n",
    "title: \"Comparative metagenomics analysis for shallowmappimg pipeline validation on real data\"\n",
    "author:\n",
    "  - name: Alejandra Escobar\n",
    "    affiliation:\n",
    "      - id: ebi-emg\n",
    "        name: MGnify team at EMBL-EBI\n",
    "categories: [R]\n",
    "execute: \n",
    "  eval: false\n",
    "---"
   ]
  },
  {
   "cell_type": "code",
   "execution_count": null,
   "id": "c4900c9e-7d78-47f2-bb5f-f9d6d0ba0695",
   "metadata": {
    "tags": []
   },
   "outputs": [],
   "source": [
    "# Loading libraries:\n",
    "suppressMessages({ \n",
    "    library(plyr)\n",
    "    library(dplyr)\n",
    "    library(data.table)\n",
    "    library(ggplot2)\n",
    "    library(IRdisplay)\n",
    "    library(phyloseq)\n",
    "    library(stringr)\n",
    "    library(tidyverse)\n",
    "    library(vegan)\n",
    "    library(metagenomeSeq)\n",
    "})"
   ]
  },
  {
   "cell_type": "markdown",
   "id": "45ffadec-bcfc-4b3f-a786-c43857febb5c",
   "metadata": {},
   "source": [
    "# Reading KOs table and transforming into a phyloseq object"
   ]
  },
  {
   "cell_type": "code",
   "execution_count": null,
   "id": "9f00fd94-49bb-46da-84de-a948cec0d223",
   "metadata": {
    "tags": []
   },
   "outputs": [],
   "source": [
    "# Reading and cleaning table\n",
    "data <- read.table(\"japan_kos_presabs.tsv\", header = TRUE, sep = \"\\t\", row.names = 1)\n",
    "data <- data[!apply(data, 1, function(x) all(x == 0 | is.na(x))), ]\n",
    "data <- data[, apply(data, 2, function(x) any(x != 0))]\n",
    "otumat <- as.matrix(data[-1])\n",
    "                     \n",
    "# Saving data for phyloseq object                     \n",
    "OTU = otu_table(otumat, taxa_are_rows = TRUE)\n",
    "sampledata <- data.frame(sample_types = sub(\"^[^_]*_\", \"\", colnames(otumat)))\n",
    "rownames(sampledata) = colnames(otumat)\n",
    "SAM = sample_data(sampledata)\n",
    "\n",
    "# Building the phyloseq object\n",
    "physeq = phyloseq(OTU, SAM)"
   ]
  },
  {
   "cell_type": "code",
   "execution_count": null,
   "id": "6e34a891-69b1-4220-af5a-7a77e02e466c",
   "metadata": {
    "tags": []
   },
   "outputs": [],
   "source": [
    "# Keeping only the optimal subsampling for shallowmapping-bwa and shogun\n",
    "physeq_filt <- subset_samples(physeq, sample_types %in% c('pic', 'mfp', 'deep', '10_sho', '10_bwa'))\n",
    "metadata = data.frame(sample_data(physeq_filt))"
   ]
  },
  {
   "cell_type": "markdown",
   "id": "51ea2519-5884-47da-bc05-cd663ecf5dde",
   "metadata": {},
   "source": [
    "# Statistical analysis of groups comparison for functions"
   ]
  },
  {
   "cell_type": "markdown",
   "id": "798c4dfa-8a32-4210-94db-1dbe7faff39e",
   "metadata": {},
   "source": [
    "## Global ANOSIM"
   ]
  },
  {
   "cell_type": "code",
   "execution_count": null,
   "id": "ef72c54f-6f70-4d57-9fec-16a065c95479",
   "metadata": {
    "tags": []
   },
   "outputs": [],
   "source": [
    "anosim(phyloseq::distance(physeq_filt, method=\"bray\"), metadata$sample_types)"
   ]
  },
  {
   "cell_type": "markdown",
   "id": "2c147db1-31ee-4d60-8756-908191431bc5",
   "metadata": {},
   "source": [
    "## Global betadisper and Adonis2"
   ]
  },
  {
   "cell_type": "code",
   "execution_count": null,
   "id": "b4594325-dbf3-4449-8ce1-997eb78af415",
   "metadata": {
    "tags": []
   },
   "outputs": [],
   "source": [
    "css_beta = distance(physeq_filt, method=\"bray\")\n",
    "ado_result = adonis2(css_beta ~ sample_types, data = metadata, perm=1e3)\n",
    "#ado_result\n",
    "\n",
    "bd = betadisper(css_beta, metadata$'sample_types')\n",
    "anova(bd)\n",
    "\n",
    "boxplot(bd)\n",
    "plot(bd)"
   ]
  },
  {
   "cell_type": "markdown",
   "id": "a184046b-cd6b-4063-a2b9-1abe1c9d482e",
   "metadata": {},
   "source": [
    "## Tukey's HSD test on dispersion for functions"
   ]
  },
  {
   "cell_type": "code",
   "execution_count": null,
   "id": "1bf23161-03da-4ced-9826-a3bacd63c79f",
   "metadata": {
    "tags": []
   },
   "outputs": [],
   "source": [
    "# Tukey's HSD test\n",
    "tukey_table <- TukeyHSD(bd)\n",
    "\n",
    "# Extract the results and convert them to data frames\n",
    "tukey_df_list <- lapply(tukey_table, as.data.frame)\n",
    "\n",
    "# Combine all components into a single data frame and write to one file\n",
    "# Add a column to identify the factor\n",
    "tukey_df_combined <- do.call(rbind, lapply(names(tukey_df_list), function(name) {\n",
    "  df <- tukey_df_list[[name]]\n",
    "  df$Comparison <- rownames(df)  # Add comparison names\n",
    "  rownames(df) <- NULL  # Remove row names\n",
    "  df$Factor <- name\n",
    "  return(df)\n",
    "}))\n",
    "\n",
    "# Write to a single file\n",
    "write.table(tukey_df_combined, \"new_mouse_tukey_bd_kos.tsv\", row.names = FALSE, col.names = TRUE, quote = FALSE, sep = \"\\t\")\n"
   ]
  },
  {
   "cell_type": "markdown",
   "id": "078cff69-07b0-4ec0-8a94-180992eae634",
   "metadata": {},
   "source": [
    "## Pairwise ANOSIM for functions"
   ]
  },
  {
   "cell_type": "code",
   "execution_count": null,
   "id": "bb6361b2-2e93-4f1e-a1e7-bf78b0e3627f",
   "metadata": {
    "tags": []
   },
   "outputs": [],
   "source": [
    "cbn <- combn(x = unique(metadata$sample_types), m = 2)\n",
    "p <- c()  # vector to store p values\n",
    "R <- c()  # vector to store R values\n",
    "\n",
    "for (i in 1:ncol(cbn)) {\n",
    "    ps.subs <- subset_samples(physeq_filt, sample_types %in% cbn[, i])\n",
    "    metadata_sub <- data.frame(sample_data(ps.subs))\n",
    "    permanova_pairwise <- anosim(phyloseq::distance(ps.subs, method=\"bray\"), \n",
    "                                 metadata_sub$sample_types)\n",
    "    p <- c(p, permanova_pairwise$signif[1])  # Store p-values\n",
    "    R <- c(R, permanova_pairwise$statistic)  # Store R statistics\n",
    "}\n",
    "\n",
    "p.adj <- p.adjust(p, method = \"BH\")  # Adjust p-values\n",
    "p.table <- cbind.data.frame(t(cbn), R = R, p = p, p.adj = p.adj)  # Combine all results in a table\n",
    "\n",
    "write.table(p.table, \"new_mouse_pairwise_anosim_kos.tsv\", row.names = FALSE, col.names = TRUE, quote = FALSE, sep = \"\\t\")\n"
   ]
  },
  {
   "cell_type": "markdown",
   "id": "5c4e4d08-a5e3-45e7-933b-95bc9b25c0d0",
   "metadata": {
    "tags": []
   },
   "source": [
    "### Pairwise ANOSIM heatmap"
   ]
  },
  {
   "cell_type": "markdown",
   "id": "cd2703ec-4568-472f-85f7-8e9121520171",
   "metadata": {},
   "source": [
    "Criteria for R-value color codes:\n",
    "\n",
    "R-value Near 0:\n",
    "R ~ 0.0 to 0.2: This range typically suggests that there is little to no observable difference between the groups. The samples can be considered very similar in composition.\n",
    "\n",
    "Moderate R-values:\n",
    "R ~ 0.2 to 0.5: This range suggests moderate differentiation. Samples might be considered somewhat different, but the distinction isn't very strong. Interpretation in this range can depend on the sensitivity required in the study and the natural variability of the dataset.\n",
    "High R-values:\n",
    "\n",
    "R-value close to 1:\n",
    "R > 0.5: This range indicates strong differentiation between samples. The higher the R-value, especially approaching or exceeding 0.7, the more distinct the community compositions between the groups. Samples with these R-values can be considered to have different compositions.\n"
   ]
  },
  {
   "cell_type": "code",
   "execution_count": null,
   "id": "96e95b13-cc59-4c12-b74b-feebdb6509af",
   "metadata": {},
   "outputs": [],
   "source": [
    "library(pheatmap)"
   ]
  },
  {
   "cell_type": "code",
   "execution_count": null,
   "id": "085124bc-f64c-4a5a-9bca-6e9aa48938fd",
   "metadata": {},
   "outputs": [],
   "source": [
    "data <- read.table(\"new_mouse_pairwise_anosim_kos.tsv\", header = TRUE, sep = \"\\t\")\n",
    "samples <- unique(c(data$X1, data$X2))\n",
    "r_matrix <- matrix(NA, nrow = length(samples), ncol = length(samples), \n",
    "                   dimnames = list(samples, samples))\n",
    "\n",
    "for (i in 1:nrow(data)) {\n",
    "    row <- which(samples == data$X1[i])\n",
    "    col <- which(samples == data$X2[i])\n",
    "    r_matrix[row, col] <- data$R[i]\n",
    "    r_matrix[col, row] <- data$R[i]  # Ensure the matrix is symmetric\n",
    "}\n",
    "\n",
    "desired_order <- c(\"deep\", \"10_bwa\", \"10_sho\", \"mfp\", \"pic\")\n",
    "r_matrix <- r_matrix[desired_order, desired_order]\n",
    "\n",
    "# Set the lower triangle to NA\n",
    "r_matrix[lower.tri(r_matrix)] <- NA\n",
    "\n",
    "# Define the colors and breaks\n",
    "colors <- c(\n",
    "  colorRampPalette(c(\"#a80202\", \"#ff6403\"))(20),    # Gradient from 0 to 0.2\n",
    "  colorRampPalette(c(\"#ff6403\", \"#ffda05\"))(30),    # Sharp change from 0.2 to 0.5\n",
    "  colorRampPalette(c(\"#ffda05\", \"black\"))(50)       # Sharp change from 0.5 to 1.0\n",
    ")\n",
    "breaks <- c(\n",
    "  seq(0, 0.2, length.out = 21),     # Breaks from 0 to 0.2\n",
    "  seq(0.2, 0.5, length.out = 31)[-1],   # Breaks from 0.2 to 0.5 (excluding duplicate 0.2)\n",
    "  seq(0.5, 1.0, length.out = 51)[-1]    # Breaks from 0.5 to 1.0 (excluding duplicate 0.5)\n",
    ")\n",
    "\n",
    "# Plot the heatmap\n",
    "pdf(\"new_mouse_rvalues_kos.pdf\", width = 7, height = 5)\n",
    "pheatmap(r_matrix,\n",
    "         color = colors,\n",
    "         breaks = breaks,\n",
    "         cluster_rows = FALSE,  # Disable clustering to preserve the order\n",
    "         cluster_cols = FALSE,  # Disable clustering to preserve the order\n",
    "         show_rownames = TRUE,\n",
    "         show_colnames = TRUE,\n",
    "         display_numbers = FALSE,\n",
    "         na_col = \"white\")  # Set the color for NA values\n",
    "dev.off()\n"
   ]
  },
  {
   "cell_type": "markdown",
   "id": "19aa5917-8873-440b-907c-840f02f77e49",
   "metadata": {},
   "source": [
    "# Ordination plots for functions"
   ]
  },
  {
   "cell_type": "code",
   "execution_count": null,
   "id": "e6ea9192-7b04-4e39-9e39-e7068912eb88",
   "metadata": {
    "tags": []
   },
   "outputs": [],
   "source": [
    "# Reading and cleaning table\n",
    "data <- read.table(\"new_mouse_kos_presabs.tsv\", header = TRUE, sep = \"\\t\", row.names = 1)\n",
    "data <- data[!apply(data, 1, function(x) all(x == 0 | is.na(x))), ]\n",
    "data <- data[, apply(data, 2, function(x) any(x != 0))]\n",
    "otumat <- as.matrix(data[-1])\n",
    "                     \n",
    "# Saving data for phyloseq object                     \n",
    "OTU = otu_table(otumat, taxa_are_rows = TRUE)\n",
    "sampledata <- data.frame(sample_types = sub(\"^[^_]*_\", \"\", colnames(otumat)))\n",
    "rownames(sampledata) = colnames(otumat)\n",
    "SAM = sample_data(sampledata)\n",
    "\n",
    "# Building the phyloseq object\n",
    "physeq = phyloseq(OTU, SAM)\n",
    "\n",
    "# Keeping only the optimal subsampling for shallowmapping-bwa and shogun\n",
    "physeq_filt <- subset_samples(physeq, sample_types %in% c('pic', 'mfp', 'deep', '10_sho', '10_bwa'))\n",
    "metadata = data.frame(sample_data(physeq_filt))\n"
   ]
  },
  {
   "cell_type": "code",
   "execution_count": null,
   "id": "27591249-da9b-4c8b-b772-92340e601491",
   "metadata": {
    "tags": []
   },
   "outputs": [],
   "source": [
    "colorCode_sample <- c(\n",
    "  \"10_bwa\" = \"#3CB44B\",\n",
    "  \"10_sho\" = \"#f77a13\",\n",
    "  \"deep\" = \"#000000\",\n",
    "  \"mfp\" = \"#780164\",\n",
    "  \"pic\" = \"#099fe0\"\n",
    ")\n",
    "\n",
    "# Testing different ordination methods\n",
    "dist = \"bray\"\n",
    "ord_meths = c(\"DCA\", \"CCA\", \"RDA\", \"MDS\", \"PCoA\")\n",
    "plist = llply(as.list(ord_meths), function(i, physeq_obj, dist){\n",
    "        ordi = ordinate(physeq_obj, method=i, distance=dist)\n",
    "        plot_ordination(physeq_obj, ordi, \"samples\")\n",
    "}, physeq_filt, dist)\n",
    "\n",
    "names(plist) <- ord_meths\n",
    "pdataframe = ldply(plist, function(x){\n",
    "    df = x$data[, 1:2]\n",
    "    colnames(df) = c(\"Axis_1\", \"Axis_2\")\n",
    "    return(cbind(df, x$data))\n",
    "})\n",
    "names(pdataframe)[1] = \"method\""
   ]
  },
  {
   "cell_type": "code",
   "execution_count": null,
   "id": "c8d8104f-9aaf-4691-be28-a729ec6cc06c",
   "metadata": {
    "tags": []
   },
   "outputs": [],
   "source": [
    "# Saving all the plots to individual pdf files\n",
    "for (index in 1:5) {\n",
    "    plot_type = ord_meths[[index]]\n",
    "    file_name = paste0('new_mouse_', plot_type, '_kos.pdf')\n",
    "    pdf(file_name, width = 5, height = 4)\n",
    "    p = plist[[index]] + \n",
    "        geom_point(size=2, alpha=1, aes(color=metadata$sample_types)) + \n",
    "        stat_ellipse(level=0.9, type=\"norm\", geom=\"polygon\", alpha=0, aes(color=metadata$sample_types)) +\n",
    "        theme_bw() + \n",
    "        scale_color_manual(values=colorCode_sample) +\n",
    "        labs(color = \"Groups\") \n",
    "    print(p)\n",
    "    dev.off()\n",
    "}"
   ]
  },
  {
   "cell_type": "code",
   "execution_count": null,
   "id": "1293d1d8-da33-45e9-b7e8-71b0bc1f8f4f",
   "metadata": {
    "tags": []
   },
   "outputs": [],
   "source": [
    "# Displaying the plots with all the methods to choose the best\n",
    "options(repr.plot.width=7, repr.plot.height=6)\n",
    "print_plots <- function() {\n",
    "    for (index in 1:5) {\n",
    "        p = plist[[index]] + geom_point(size=2, alpha=1, aes(color=metadata$sample_types)) + \n",
    "            stat_ellipse(level=0.9, type=\"norm\", geom=\"polygon\", alpha=0, aes(color=metadata$sample_types)) +\n",
    "            theme_bw() + \n",
    "            scale_color_manual(values=colorCode_sample) +\n",
    "            labs(color = \"Groups\") \n",
    "        print(p)\n",
    "    }\n",
    "}\n",
    "print_plots()"
   ]
  },
  {
   "cell_type": "markdown",
   "id": "bdd74843-eb2d-42e1-b8ef-14c783552191",
   "metadata": {},
   "source": [
    "# Statistical analysis of groups comparison for taxonomy"
   ]
  },
  {
   "cell_type": "markdown",
   "id": "5ca256a3-6b6c-49bb-9e87-df38691aaa80",
   "metadata": {},
   "source": [
    "## Hierarchical clustering of taxonomy"
   ]
  },
  {
   "cell_type": "code",
   "execution_count": null,
   "id": "4675c408-4998-4c33-9952-b23ba0807ba0",
   "metadata": {},
   "outputs": [],
   "source": [
    "library(dendextend)"
   ]
  },
  {
   "cell_type": "code",
   "execution_count": null,
   "id": "db063a62-6e56-45ae-b138-46756eb5f32c",
   "metadata": {
    "tags": []
   },
   "outputs": [],
   "source": [
    "# Reading table\n",
    "data <- read.table(\"jungle_relab_taxo_species.tsv\", header = TRUE, sep = \"\\t\", row.names = 1)\n",
    "data <- data[apply(data, 1, function(x) any(x > 0.001)), ]\n",
    "data <- data[, apply(data, 2, function(x) any(x != 0))]\n",
    "otumat_all <- as.matrix(data[-1])\n",
    "\n",
    "# Filter the columns of otumat matrix based on the conditions in sampledata\n",
    "selected_samples <- sampledata$sample_types %in% c('amp', 'deep', '10_sho', '10_bwa')\n",
    "otumat <- otumat_all[, selected_samples]\n",
    "\n",
    "sampledata <- data.frame(sample_types = sub(\"^[^_]*_\", \"\", colnames(otumat)))\n",
    "rownames(sampledata) = colnames(otumat)\n",
    "\n",
    "colorCode <- c(\n",
    "  \"10_bwa\" = \"#3CB44B\",\n",
    "  \"10_sho\" = \"#f77a13\",\n",
    "  \"deep\" = \"#000000\",\n",
    "  \"amp\" = \"#2004d4\"\n",
    ")\n",
    "\n",
    "\n",
    "bc_dist <- vegan::vegdist(t(otumat), method = \"bray\")\n",
    "ward <- as.dendrogram(hclust(bc_dist, method = \"ward.D2\"))\n",
    "plot_data <- as.dendrogram(ward)\n",
    "label_colors <- colorCode[sampledata$sample_types[order.dendrogram(plot_data)]]\n",
    "labels_colors(ward) <- label_colors\n",
    "\n",
    "pdf(\"japan_species_hclus.pdf\", width = 20, height = 8)\n",
    "par(mar = c(6, 2, 1, 1))\n",
    "plot(ward)\n",
    "legend(\"topright\", inset = c(0, 0), legend = names(colorCode), fill = colorCode, title = \"Annotation method\", cex = 1.5)\n",
    "dev.off()\n",
    "\n",
    "write.table(labels(plot_data), \"japan_species_labels.txt\", row.names = FALSE, col.names = FALSE, quote = FALSE)\n"
   ]
  },
  {
   "cell_type": "markdown",
   "id": "4832b218-ddb6-40ee-bc53-9e6cf41511a0",
   "metadata": {},
   "source": [
    "# Reading taxonomic tables"
   ]
  },
  {
   "cell_type": "markdown",
   "id": "ec632dde-416c-4f4e-83e5-e27f6cae5be6",
   "metadata": {},
   "source": [
    "## Heatmaps"
   ]
  },
  {
   "cell_type": "code",
   "execution_count": null,
   "id": "383ef00f-7cdc-4f9f-b096-3d6d3daf1089",
   "metadata": {
    "tags": []
   },
   "outputs": [],
   "source": [
    "suppressMessages({ \n",
    "    library(dplyr)\n",
    "    library(RColorBrewer)\n",
    "    library(ComplexHeatmap)\n",
    "})"
   ]
  },
  {
   "cell_type": "code",
   "execution_count": null,
   "id": "a1284e03-1a54-418d-b8f4-3f48cb5708a2",
   "metadata": {
    "tags": []
   },
   "outputs": [],
   "source": [
    "# Species level heatmap\n",
    "data_1 <- read.csv(\"jungle_relab_taxo_species.tsv\", sep = \"\\t\", header = TRUE, row.names = 1, check.names=FALSE)\n",
    "sampledata <- data.frame(sample_types = sub(\"^[^_]*_\", \"\", colnames(data_1)))\n",
    "rownames(sampledata) = colnames(data_1)\n",
    "\n",
    "# Filter the columns of otumat matrix based on the conditions in sampledata\n",
    "selected_samples <- sampledata$sample_types %in% c('amp', 'deep', '10_sho', '10_bwa')\n",
    "data_1 <- data_1[, selected_samples]\n",
    "data_1 <- data_1[apply(data_1, 1, function(x) any(x > 0.1)), ]\n",
    "data_1 <- data_1[, apply(data_1, 2, function(x) any(x != 0))]\n",
    "species_data = as.matrix(data_1)\n",
    "\n",
    "# Create the colors_names annotation\n",
    "sample_names <- names(data_1) \n",
    "\n",
    "# Initialize an empty dataframe for metadata\n",
    "new_sampledata <- data.frame(sample_name = sample_names, sample_group = character(length(sample_names)), stringsAsFactors = FALSE)\n",
    "\n",
    "# Function to determine sample_type based on the suffix\n",
    "get_sample_type <- function(sample_name) {\n",
    "  suffix <- sub(\"^[^_]*_\", \"\", sample_name)\n",
    "if (suffix %in% c(\"1_bwa\", \"5_bwa\", \"10_bwa\", \"15_bwa\", \"20_bwa\")) {\n",
    "    return(\"#3cb44b\")\n",
    "  } else if (suffix %in% c(\"1_sho\", \"5_sho\", \"10_sho\", \"15_sho\", \"20_sho\")) {\n",
    "    return(\"#f77a13\")\n",
    "  } else if (suffix == \"deep\") {\n",
    "    return(\"#000000\")\n",
    "  } else if (suffix == \"amp\") {\n",
    "    return(\"#2004d4\")\n",
    "  } else {\n",
    "    return(NA)\n",
    "  }\n",
    "}\n",
    "\n",
    "new_sampledata$sample_group <- sapply(new_sampledata$sample_name, get_sample_type)\n",
    "sampledata_list <- setNames(new_sampledata$sample_group, new_sampledata$sample_name)\n",
    "\n",
    "annotation = HeatmapAnnotation(Group = new_sampledata$sample_name, col = list(Group = sampledata_list), annotation_name_gp = gpar(fontsize = 8), annotation_legend_param = list(Group = list(at = NULL)))\n",
    "\n",
    "# Sorting the samples by name\n",
    "order_samples_by_prefix <- function(sample_names, prefix_list) {\n",
    "  column_order <- c()\n",
    "  for (prefix in prefix_list) {\n",
    "    matching_samples <- grep(paste0(prefix, \"$\"), sample_names, value = TRUE)\n",
    "    column_order <- c(column_order, matching_samples)\n",
    "  }\n",
    "  return(column_order)\n",
    "}\n",
    "prefix_list <- c(\n",
    "  \"_deep\",\n",
    "  \"_20_bwa\",\n",
    "  \"_20_sho\",\n",
    "  \"_amp\"\n",
    ")\n",
    "column_order <- order_samples_by_prefix(sample_names, prefix_list)\n",
    "\n",
    "ht_1 = Heatmap(species_data, \n",
    "        column_title = \"\", \n",
    "        row_title = \"\",\n",
    "        row_names_gp = gpar(fontsize = 0), # Text size for col names\n",
    "        col = c(\"#e0e0e0\", \"#02a8a2\"),\n",
    "        show_column_names = FALSE,\n",
    "        top_annotation = annotation,\n",
    "        show_heatmap_legend = FALSE\n",
    "        #column_order = column_order\n",
    ")\n",
    "\n",
    "pdf(\"jungle_heatmap_taxonomy_species.pdf\", width = 5, height = 5) \n",
    "draw(ht_1)\n",
    "dev.off()\n"
   ]
  },
  {
   "cell_type": "markdown",
   "id": "a1a53e1a-cc24-49dd-98fc-d4b35cccf2b6",
   "metadata": {},
   "source": [
    "## Combined heatmap domain and phylum"
   ]
  },
  {
   "cell_type": "code",
   "execution_count": null,
   "id": "c73e61ae-2cda-4bfc-ab83-e6bd72f8383b",
   "metadata": {
    "tags": []
   },
   "outputs": [],
   "source": [
    "# Phylum level heatmap\n",
    "data_1 <- read.csv(\"ranks_jungle_relab_taxo_phylum.tsv\", sep = \"\\t\", header = TRUE, row.names = 1, check.names=FALSE)\n",
    "sampledata <- data.frame(sample_types = sub(\"^[^_]*_\", \"\", colnames(data_1)))\n",
    "rownames(sampledata) = colnames(data_1)\n",
    "\n",
    "# Filter the columns of otumat matrix based on the conditions in sampledata\n",
    "selected_samples <- sampledata$sample_types %in% c('amp', 'deep', '20_sho', '20_bwa')\n",
    "data_1 <- data_1[, selected_samples]\n",
    "data_1 <- data_1[apply(data_1, 1, function(x) any(x > 0.000001)), ]\n",
    "data_1 <- data_1[, apply(data_1, 2, function(x) any(x != 0))]\n",
    "phylum_data = as.matrix(data_1)\n",
    "\n",
    "# Domain level heatmap\n",
    "data_2 <- read.csv(\"ranks_jungle_relab_taxo_domain.tsv\", sep = \"\\t\", header = TRUE, row.names = 1, check.names=FALSE)\n",
    "data_2 <- data_2[, selected_samples]\n",
    "data_2 <- data_2[apply(data_2, 1, function(x) any(x > 0.000001)), ]\n",
    "data_2 <- data_2[, apply(data_2, 2, function(x) any(x != 0))]\n",
    "dom_data = as.matrix(data_2)\n"
   ]
  },
  {
   "cell_type": "code",
   "execution_count": null,
   "id": "09acab67-8eb3-467b-86d7-197dd867f798",
   "metadata": {
    "tags": []
   },
   "outputs": [],
   "source": [
    "# Create the colors_names annotation\n",
    "sample_names <- names(data_1) \n",
    "\n",
    "# Initialize an empty dataframe for metadata\n",
    "new_sampledata <- data.frame(sample_name = sample_names, sample_group = character(length(sample_names)), stringsAsFactors = FALSE)\n",
    "\n",
    "# Function to determine sample_type based on the suffix\n",
    "get_sample_type <- function(sample_name) {\n",
    "  suffix <- sub(\"^[^_]*_\", \"\", sample_name)\n",
    "if (suffix %in% c(\"1_bwa\", \"5_bwa\", \"10_bwa\", \"15_bwa\", \"20_bwa\")) {\n",
    "    return(\"#3cb44b\")\n",
    "  } else if (suffix %in% c(\"1_sho\", \"5_sho\", \"10_sho\", \"15_sho\", \"20_sho\")) {\n",
    "    return(\"#f77a13\")\n",
    "  } else if (suffix == \"deep\") {\n",
    "    return(\"#000000\")\n",
    "  } else if (suffix == \"amp\") {\n",
    "    return(\"#2004d4\")\n",
    "  } else {\n",
    "    return(NA)\n",
    "  }\n",
    "}\n",
    "\n",
    "new_sampledata$sample_group <- sapply(new_sampledata$sample_name, get_sample_type)\n",
    "sampledata_list <- setNames(new_sampledata$sample_group, new_sampledata$sample_name)\n",
    "\n",
    "annotation = HeatmapAnnotation(Group = new_sampledata$sample_name, col = list(Group = sampledata_list), annotation_name_gp = gpar(fontsize = 8), annotation_legend_param = list(Group = list(at = NULL)))\n",
    "\n",
    "# Sorting the samples by name\n",
    "order_samples_by_prefix <- function(sample_names, prefix_list) {\n",
    "  column_order <- c()\n",
    "  for (prefix in prefix_list) {\n",
    "    matching_samples <- grep(paste0(prefix, \"$\"), sample_names, value = TRUE)\n",
    "    column_order <- c(column_order, matching_samples)\n",
    "  }\n",
    "  return(column_order)\n",
    "}\n",
    "prefix_list <- c(\n",
    "  \"_deep\",\n",
    "  \"_20_bwa\",\n",
    "  \"_20_sho\",\n",
    "  \"_amp\"\n",
    ")\n",
    "column_order <- order_samples_by_prefix(sample_names, prefix_list)\n",
    "\n",
    "ht_1 = Heatmap(phylum_data, \n",
    "        column_title = \"\", \n",
    "        row_title = \"\",\n",
    "        row_names_gp = gpar(fontsize = 7), # Text size for col names\n",
    "        col = c(\"#e0e0e0\", \"#02a8a2\"),\n",
    "        show_column_names = FALSE,\n",
    "        top_annotation = annotation,\n",
    "        show_heatmap_legend = FALSE\n",
    "        #column_order = column_order\n",
    ")\n",
    "\n",
    "ht_2 = Heatmap(dom_data, \n",
    "        column_title = \"\", \n",
    "        row_title = \"\",\n",
    "        row_names_gp = gpar(fontsize = 7), # Text size for col names\n",
    "        col = c(\"#e0e0e0\", \"#040285\"),\n",
    "        show_column_names = FALSE,\n",
    "        show_heatmap_legend = FALSE\n",
    "        #column_order = column_order\n",
    ")\n",
    "\n",
    "ht_list = ht_1 %v% ht_2\n",
    "\n",
    "pdf(\"jungle_heatmap_taxonomy.pdf\", width = 5, height = 5) \n",
    "draw(ht_list)\n",
    "dev.off()\n"
   ]
  },
  {
   "cell_type": "markdown",
   "id": "e857f6d6-e641-4e6d-8e09-4b08d6cb64cd",
   "metadata": {
    "tags": []
   },
   "source": [
    "## Groups comparison and ordination plots for taxonomy"
   ]
  },
  {
   "cell_type": "markdown",
   "id": "501f31ae-a4bc-44e8-9a5f-05ddcbba4b32",
   "metadata": {},
   "source": [
    "### Filtered matrix to phyloseq object"
   ]
  },
  {
   "cell_type": "code",
   "execution_count": null,
   "id": "1f2aa665-0083-4a47-8580-ee3156ad322d",
   "metadata": {
    "tags": []
   },
   "outputs": [],
   "source": [
    "# Building a clean phyloseq object and filter in the sallow-shotgun data with the best subsampling only\n",
    "# Reading table\n",
    "data <- read.table(\"new_mouse_relab_taxo_species.tsv\", header = TRUE, sep = \"\\t\", row.names = 1)\n",
    "data <- data[!apply(data, 1, function(x) all(x == 0 | is.na(x))), ]\n",
    "data <- data[, apply(data, 2, function(x) any(x != 0))]\n",
    "otumat <- as.matrix(data[-1])\n",
    "OTU = otu_table(otumat, taxa_are_rows = TRUE)\n",
    "\n",
    "sampledata <- data.frame(sample_types = sub(\"^[^_]*_\", \"\", colnames(otumat)))\n",
    "rownames(sampledata) = colnames(otumat)\n",
    "\n",
    "SAM = sample_data(sampledata)\n",
    "physeq = phyloseq(OTU, SAM)\n",
    "\n",
    "# Keeping only 1M reads samples for shallowmapping-bwa and shogun\n",
    "physeq_filt <- subset_samples(physeq, sample_types %in% c('amp', 'deep', '10_sho', '10_bwa'))\n",
    "metadata = data.frame(sample_data(physeq_filt))"
   ]
  },
  {
   "cell_type": "markdown",
   "id": "780c26c0-03bc-4f41-8f69-4c1b12620365",
   "metadata": {},
   "source": [
    "### Global betadisper and Adonis2 for taxonomy"
   ]
  },
  {
   "cell_type": "code",
   "execution_count": null,
   "id": "0b4a048a-0715-4b5e-94b7-5b32d7a7059c",
   "metadata": {
    "tags": []
   },
   "outputs": [],
   "source": [
    "css_beta = distance(physeq_filt, method=\"bray\")\n",
    "ado_result = adonis2(css_beta ~ sample_types, data = metadata, perm=1e3)\n",
    "ado_result"
   ]
  },
  {
   "cell_type": "code",
   "execution_count": null,
   "id": "48f86317-3543-4701-ba09-42a4963ea5f9",
   "metadata": {
    "tags": []
   },
   "outputs": [],
   "source": [
    "bd = betadisper(css_beta, metadata$'sample_types')\n",
    "anova(bd)\n",
    "\n",
    "boxplot(bd)\n",
    "plot(bd)"
   ]
  },
  {
   "cell_type": "markdown",
   "id": "24d0b6a8-b5d0-4e9d-83d5-5e6e3a8028ef",
   "metadata": {},
   "source": [
    "### Tukey's HSD test on dispersion for taxonomy (when betadisper global P-val < 0.01)"
   ]
  },
  {
   "cell_type": "code",
   "execution_count": null,
   "id": "95910db2-8f05-47aa-931b-6a91e3527209",
   "metadata": {
    "tags": []
   },
   "outputs": [],
   "source": [
    "tukey_table <- TukeyHSD(bd)\n",
    "\n",
    "# Extract the results and convert them to data frames\n",
    "tukey_df_list <- lapply(tukey_table, as.data.frame)\n",
    "\n",
    "# Option 2: Combine all components into a single data frame and write to one file\n",
    "# Add a column to identify the factor\n",
    "tukey_df_combined <- do.call(rbind, lapply(names(tukey_df_list), function(name) {\n",
    "  df <- tukey_df_list[[name]]\n",
    "  df$Comparison <- rownames(df)  # Add comparison names\n",
    "  rownames(df) <- NULL  # Remove row names\n",
    "  df$Factor <- name\n",
    "  return(df)\n",
    "}))\n",
    "\n",
    "# Write to a single file\n",
    "write.table(tukey_df_combined, \"new_mouse_tukey_bd_species.tsv\", row.names = FALSE, col.names = TRUE, quote = FALSE, sep = \"\\t\")\n"
   ]
  },
  {
   "cell_type": "markdown",
   "id": "0282aaf8-bb08-40ac-83fd-c19f78b65afa",
   "metadata": {
    "tags": []
   },
   "source": [
    "### Pairwise ANOSIM for taxonomy"
   ]
  },
  {
   "cell_type": "code",
   "execution_count": null,
   "id": "9dc05f5e-3afb-4c5f-9d3d-a068a34391ff",
   "metadata": {
    "tags": []
   },
   "outputs": [],
   "source": [
    "cbn <- combn(x = unique(metadata$sample_types), m = 2)\n",
    "p <- c()  # vector to store p values\n",
    "R <- c()  # vector to store R values\n",
    "\n",
    "for (i in 1:ncol(cbn)) {\n",
    "    ps.subs <- subset_samples(physeq_filt, sample_types %in% cbn[, i])\n",
    "    metadata_sub <- data.frame(sample_data(ps.subs))\n",
    "    permanova_pairwise <- anosim(phyloseq::distance(ps.subs, method=\"bray\"), \n",
    "                                 metadata_sub$sample_types)\n",
    "    p <- c(p, permanova_pairwise$signif[1])  # Store p-values\n",
    "    R <- c(R, permanova_pairwise$statistic)  # Store R statistics\n",
    "}\n",
    "\n",
    "p.adj <- p.adjust(p, method = \"BH\")  # Adjust p-values\n",
    "p.table <- cbind.data.frame(t(cbn), R = R, p = p, p.adj = p.adj)  # Combine all results in a table\n",
    "\n",
    "write.table(p.table, \"new_mouse_pairwise_anosim_species.tsv\", row.names = FALSE, col.names = TRUE, quote = FALSE, sep = \"\\t\")"
   ]
  },
  {
   "cell_type": "markdown",
   "id": "fa8772e4-4f92-4101-b6a5-382398e906b2",
   "metadata": {},
   "source": [
    "### Heatmap of pairwise ANOSIM for taxonomy"
   ]
  },
  {
   "cell_type": "code",
   "execution_count": null,
   "id": "b96e08ea-fbeb-4d26-adb0-c77e73d38fa9",
   "metadata": {
    "tags": []
   },
   "outputs": [],
   "source": [
    "library(pheatmap)"
   ]
  },
  {
   "cell_type": "code",
   "execution_count": null,
   "id": "fa524f46-e09b-47ef-a9f7-270ffe4bb7e7",
   "metadata": {
    "tags": []
   },
   "outputs": [],
   "source": [
    "data <- read.table(\"new_mouse_pairwise_anosim_species.tsv\", header = TRUE, sep = \"\\t\")\n",
    "samples <- unique(c(data$X1, data$X2))\n",
    "r_matrix <- matrix(NA, nrow = length(samples), ncol = length(samples), \n",
    "                   dimnames = list(samples, samples))\n",
    "\n",
    "for (i in 1:nrow(data)) {\n",
    "    row <- which(samples == data$X1[i])\n",
    "    col <- which(samples == data$X2[i])\n",
    "    r_matrix[row, col] <- data$R[i]\n",
    "    r_matrix[col, row] <- data$R[i]  # Ensure the matrix is symmetric\n",
    "}\n",
    "\n",
    "desired_order <- c(\"deep\", \"10_bwa\", \"10_sho\", \"amp\")\n",
    "r_matrix <- r_matrix[desired_order, desired_order]\n",
    "\n",
    "# Set the lower triangle to NA\n",
    "r_matrix[lower.tri(r_matrix)] <- NA\n",
    "\n",
    "# Define the colors and breaks\n",
    "colors <- c(\n",
    "  colorRampPalette(c(\"#a80202\", \"#ff6403\"))(20),    # Gradient from 0 to 0.2\n",
    "  colorRampPalette(c(\"#ff6403\", \"#ffda05\"))(30),    # Sharp change from 0.2 to 0.5\n",
    "  colorRampPalette(c(\"#ffda05\", \"black\"))(50)       # Sharp change from 0.5 to 1.0\n",
    ")\n",
    "breaks <- c(\n",
    "  seq(0, 0.2, length.out = 21),     # Breaks from 0 to 0.2\n",
    "  seq(0.2, 0.5, length.out = 31)[-1],   # Breaks from 0.2 to 0.5 (excluding duplicate 0.2)\n",
    "  seq(0.5, 1.0, length.out = 51)[-1]    # Breaks from 0.5 to 1.0 (excluding duplicate 0.5)\n",
    ")\n",
    "\n",
    "# Plot the heatmap\n",
    "pdf(\"new_mouse_rvalues_species.pdf\", width = 7, height = 5)\n",
    "pheatmap(r_matrix,\n",
    "         color = colors,\n",
    "         breaks = breaks,\n",
    "         cluster_rows = FALSE,  # Disable clustering to preserve the order\n",
    "         cluster_cols = FALSE,  # Disable clustering to preserve the order\n",
    "         show_rownames = TRUE,\n",
    "         show_colnames = TRUE,\n",
    "         display_numbers = FALSE,\n",
    "         na_col = \"white\")  # Set the color for NA values\n",
    "dev.off()\n"
   ]
  },
  {
   "cell_type": "markdown",
   "id": "a000e46e-6c68-44eb-bb83-170b48543b7f",
   "metadata": {
    "tags": []
   },
   "source": [
    "### Ordination plots for taxonomy"
   ]
  },
  {
   "cell_type": "code",
   "execution_count": null,
   "id": "f9db7752-f602-497a-89b1-6d048865df44",
   "metadata": {
    "tags": []
   },
   "outputs": [],
   "source": [
    "# Building a clean phyloseq object and filter in the sallow-shotgun data with the best subsampling only\n",
    "# Reading table\n",
    "data <- read.table(\"new_mouse_relab_taxo_species.tsv\", header = TRUE, sep = \"\\t\", row.names = 1)\n",
    "data <- data[!apply(data, 1, function(x) all(x == 0 | is.na(x))), ]\n",
    "data <- data[, apply(data, 2, function(x) any(x != 0))]\n",
    "otumat <- as.matrix(data[-1])\n",
    "OTU = otu_table(otumat, taxa_are_rows = TRUE)\n",
    "\n",
    "sampledata <- data.frame(sample_types = sub(\"^[^_]*_\", \"\", colnames(otumat)))\n",
    "rownames(sampledata) = colnames(otumat)\n",
    "\n",
    "SAM = sample_data(sampledata)\n",
    "physeq = phyloseq(OTU, SAM)\n",
    "\n",
    "# Keeping only 1M reads samples for shallowmapping-bwa and shogun\n",
    "physeq_filt <- subset_samples(physeq, sample_types %in% c('amp', 'deep', '10_sho', '10_bwa'))\n",
    "metadata = data.frame(sample_data(physeq_filt))"
   ]
  },
  {
   "cell_type": "code",
   "execution_count": null,
   "id": "d6419133-93b8-4ef1-a36b-dd50c94866b0",
   "metadata": {
    "tags": []
   },
   "outputs": [],
   "source": [
    "colorCode_sample <- c(\n",
    "  \"10_bwa\" = \"#3CB44B\",\n",
    "  \"10_sho\" = \"#f77a13\",\n",
    "  \"deep\" = \"#000000\",\n",
    "  \"amp\" = \"#3402c9\"\n",
    ")\n",
    "\n",
    "# Testing different ordination methods\n",
    "dist = \"bray\"\n",
    "ord_meths = c(\"DCA\", \"CCA\", \"RDA\", \"MDS\", \"PCoA\")\n",
    "plist = llply(as.list(ord_meths), function(i, physeq_obj, dist){\n",
    "        ordi = ordinate(physeq_obj, method=i, distance=dist)\n",
    "        plot_ordination(physeq_obj, ordi, \"samples\")\n",
    "}, physeq_filt, dist)\n",
    "\n",
    "names(plist) <- ord_meths\n",
    "pdataframe = ldply(plist, function(x){\n",
    "    df = x$data[, 1:2]\n",
    "    colnames(df) = c(\"Axis_1\", \"Axis_2\")\n",
    "    return(cbind(df, x$data))\n",
    "})\n",
    "names(pdataframe)[1] = \"method\"\n"
   ]
  },
  {
   "cell_type": "code",
   "execution_count": null,
   "id": "4a8c1ee3-6d84-4a0c-9c40-66186a4e8525",
   "metadata": {
    "tags": []
   },
   "outputs": [],
   "source": [
    "# Saving all the plots to individual pdf files\n",
    "for (index in 1:5) {\n",
    "    plot_type = ord_meths[[index]]\n",
    "    file_name = paste0('new_mouse_', plot_type, '_species.pdf')\n",
    "    pdf(file_name, width = 5, height = 4)\n",
    "    p = plist[[index]] + \n",
    "        geom_point(size=2, alpha=1, aes(color=metadata$sample_types)) + \n",
    "        stat_ellipse(level=0.9, type=\"norm\", geom=\"polygon\", alpha=0, aes(color=metadata$sample_types)) +\n",
    "        theme_bw() + \n",
    "        scale_color_manual(values=colorCode_sample) +\n",
    "        labs(color = \"Groups\") \n",
    "    print(p)\n",
    "    dev.off()\n",
    "}"
   ]
  },
  {
   "cell_type": "code",
   "execution_count": null,
   "id": "8a01e8dc-f471-401e-bb2c-b076f597861e",
   "metadata": {
    "tags": []
   },
   "outputs": [],
   "source": [
    "# Displaying the plots with all the methods to find the best\n",
    "options(repr.plot.width=7, repr.plot.height=6)\n",
    "print_plots <- function() {\n",
    "    for (index in 1:5) {\n",
    "        p = plist[[index]] + geom_point(size=2, alpha=1, aes(color=metadata$sample_types)) + \n",
    "            stat_ellipse(level=0.9, type=\"norm\", geom=\"polygon\", alpha=0, aes(color=metadata$sample_types)) +\n",
    "            theme_bw() + \n",
    "            scale_color_manual(values=colorCode_sample) +\n",
    "            labs(color = \"Groups\") \n",
    "        print(p)\n",
    "    }\n",
    "}\n",
    "print_plots()\n"
   ]
  },
  {
   "cell_type": "code",
   "execution_count": null,
   "id": "87d65b67-d38f-4c82-90c8-9d3476459d58",
   "metadata": {
    "tags": []
   },
   "outputs": [],
   "source": [
    "# Generating the final figure in pdf\n",
    "options(repr.plot.width=6, repr.plot.height=5)\n",
    "pdf(\"new_mouse_DCA_species.pdf\", width = 5, height = 4)\n",
    "p = plist[[1]] + geom_point(size=2, alpha=1, aes(color=metadata$sample_types)) + \n",
    "    stat_ellipse(level=0.9, type=\"norm\", geom=\"polygon\", alpha=0, aes(color=metadata$sample_types)) +\n",
    "    theme_bw() + \n",
    "    scale_color_manual(values=colorCode_sample) +\n",
    "    labs(color = \"Groups\") \n",
    "p\n",
    "dev.off()\n"
   ]
  },
  {
   "cell_type": "markdown",
   "id": "0c48bfd7-c44c-462e-95a1-a5adcbaffbe9",
   "metadata": {
    "tags": []
   },
   "source": [
    "# Analysis of samples groups on (TMAO paper)"
   ]
  },
  {
   "cell_type": "markdown",
   "id": "d2433e2f-ba36-4311-81f6-714bd1f840c2",
   "metadata": {},
   "source": [
    "## Features profiles analysis based on high and low TMAO producers"
   ]
  },
  {
   "cell_type": "markdown",
   "id": "1580bea3-4748-4632-b9ab-b4687ca3e809",
   "metadata": {},
   "source": [
    "### Taxonomic annotation at species level analysis"
   ]
  },
  {
   "cell_type": "code",
   "execution_count": null,
   "id": "17ee57b3-477c-4d23-9378-740e391ead00",
   "metadata": {
    "tags": []
   },
   "outputs": [],
   "source": [
    "# Building a clean phyloseq object for taxonomic annotations\n",
    "data <- read.table(\"bwa_taxo_matrix.tsv\", header = TRUE, sep = \"\\t\", row.names = 1)\n",
    "data <- data[!apply(data, 1, function(x) all(x == 0 | is.na(x))), ]\n",
    "data <- data[, apply(data, 2, function(x) any(x != 0))]\n",
    "otumat <- as.matrix(data[-1])\n",
    "OTU = otu_table(otumat, taxa_are_rows = TRUE)\n",
    "\n",
    "# Building metadata object with groups formation info (all individuals)\n",
    "second_elements <- sapply(strsplit(colnames(otumat), \"_\"), function(x) x[2])\n",
    "sampledata <- data.frame(sample_types = ifelse(grepl(\"HP\", second_elements), \"High\", \"Low\"))\n",
    "rownames(sampledata) = colnames(otumat)\n",
    "#head(sampledata, 15)\n",
    "\n",
    "SAM = sample_data(sampledata)\n",
    "physeq = phyloseq(OTU, SAM)\n",
    "metadata = data.frame(sample_data(physeq))\n",
    "                          \n",
    "# Global ANOSIM all individuals\n",
    "anosim(phyloseq::distance(physeq, method=\"bray\"), metadata$sample_types)                          \n",
    "                          \n",
    "# Global ADONIS all individuals\n",
    "css_beta = distance(physeq, method=\"bray\")\n",
    "ado_result = adonis2(css_beta ~ sample_types, data = metadata, perm=1e3, na.rm = TRUE)\n",
    "ado_result                          \n",
    "                          \n",
    "# Betadisper all individuals\n",
    "bd = betadisper(css_beta, metadata$'sample_types')\n",
    "anova(bd)\n",
    "\n",
    "options(repr.plot.width=10, repr.plot.height=10)\n",
    "plot(bd)                                                    "
   ]
  },
  {
   "cell_type": "code",
   "execution_count": null,
   "id": "41b31adc-bd88-45e9-be02-70de57a13fbd",
   "metadata": {
    "tags": []
   },
   "outputs": [],
   "source": [
    "# Separating vegetarian and omnivores\n",
    "# Extract the sample data\n",
    "sample_data_df <- sample_data(physeq)\n",
    "\n",
    "# Subset phyloseq_veg for samples with names starting with 'V'\n",
    "physeq_veg <- subset_samples(physeq, grepl(\"^V\", rownames(sample_data_df)))\n",
    "metadata_veg = data.frame(sample_data(physeq_veg))\n",
    "\n",
    "# ANOSIM vegetarian\n",
    "anosim(phyloseq::distance(physeq_veg, method=\"bray\"), metadata_veg$sample_types)                          \n",
    "\n",
    "# ADONIS vegetarian\n",
    "v_css_beta = distance(physeq_veg, method=\"bray\")\n",
    "v_ado_result = adonis2(v_css_beta ~ sample_types, data = metadata_veg, perm=1e3, na.rm = TRUE)\n",
    "v_ado_result\n",
    "\n",
    "# Betadisper vegetarian\n",
    "v_bd = betadisper(v_css_beta, metadata_veg$'sample_types')\n",
    "anova(v_bd)\n",
    "plot(v_bd)                                                    \n",
    "\n",
    "# Subset phyloseq_omn for samples with names starting with 'O'\n",
    "physeq_omn <- subset_samples(physeq, grepl(\"^O\", rownames(sample_data_df)))\n",
    "metadata_omn = data.frame(sample_data(physeq_omn))\n",
    "\n",
    "# ANOSIM omnivores\n",
    "anosim(phyloseq::distance(physeq_omn, method=\"bray\"), metadata_omn$sample_types)                          \n",
    "\n",
    "# ADONIS omnivores\n",
    "o_css_beta = distance(physeq_omn, method=\"bray\")\n",
    "o_ado_result = adonis2(o_css_beta ~ sample_types, data = metadata_omn, perm=1e3, na.rm = TRUE)\n",
    "o_ado_result\n",
    "\n",
    "# Betadisper omnivores\n",
    "o_bd = betadisper(o_css_beta, metadata_omn$'sample_types')\n",
    "anova(o_bd)\n",
    "plot(o_bd)                                                    "
   ]
  },
  {
   "cell_type": "markdown",
   "id": "6517f786-2f18-461f-ab16-c693839ba58c",
   "metadata": {},
   "source": [
    "### Functional annotation KOs"
   ]
  },
  {
   "cell_type": "code",
   "execution_count": null,
   "id": "092bbd99-a95f-47c5-ada3-b404b35cf023",
   "metadata": {
    "tags": []
   },
   "outputs": [],
   "source": [
    "# Building a clean phyloseq object for KOs annotations\n",
    "data <- read.table(\"bwa_kos_matrix.tsv\", header = TRUE, sep = \"\\t\", row.names = 1)\n",
    "data <- data[!apply(data, 1, function(x) all(x == 0 | is.na(x))), ]\n",
    "data <- data[, apply(data, 2, function(x) any(x != 0))]\n",
    "otumat <- as.matrix(data[-1])\n",
    "OTU = otu_table(otumat, taxa_are_rows = TRUE)\n",
    "\n",
    "# Building metadata object with groups formation info (all individuals)\n",
    "second_elements <- sapply(strsplit(colnames(otumat), \"_\"), function(x) x[2])\n",
    "sampledata <- data.frame(sample_types = ifelse(grepl(\"HP\", second_elements), \"High\", \"Low\"))\n",
    "rownames(sampledata) = colnames(otumat)\n",
    "#head(sampledata, 15)\n",
    "                          \n",
    "SAM = sample_data(sampledata)\n",
    "physeq = phyloseq(OTU, SAM)\n",
    "metadata = data.frame(sample_data(physeq))\n",
    "\n",
    "# ANOSIM all individuals\n",
    "anosim(phyloseq::distance(physeq, method=\"bray\"), metadata$sample_types)                          \n",
    "                                          \n",
    "# ADONIS all individuals\n",
    "css_beta = distance(physeq, method=\"bray\")\n",
    "ado_result = adonis2(css_beta ~ sample_types, data = metadata, perm=1e3, na.rm = TRUE)\n",
    "ado_result\n",
    "                          \n",
    "# Betadisper all individuals\n",
    "bd = betadisper(css_beta, metadata$'sample_types')\n",
    "anova(bd)\n",
    "\n",
    "options(repr.plot.width=10, repr.plot.height=10)\n",
    "plot(bd)                          "
   ]
  },
  {
   "cell_type": "code",
   "execution_count": null,
   "id": "93d318f3-9b01-40ff-a5f7-9c2442643778",
   "metadata": {
    "tags": []
   },
   "outputs": [],
   "source": [
    "# Separating vegetarian and omnivores\n",
    "# Extract the sample data\n",
    "sample_data_df <- sample_data(physeq)\n",
    "\n",
    "# Subset phyloseq_veg for samples with names starting with 'V'\n",
    "physeq_veg <- subset_samples(physeq, grepl(\"^V\", rownames(sample_data_df)))\n",
    "metadata_veg = data.frame(sample_data(physeq_veg))\n",
    "\n",
    "# ANOSIM vegetarian\n",
    "anosim(phyloseq::distance(physeq_veg, method=\"bray\"), metadata_veg$sample_types)                          \n",
    "\n",
    "# ADONIS vegetarian\n",
    "v_css_beta = distance(physeq_veg, method=\"bray\")\n",
    "v_ado_result = adonis2(v_css_beta ~ sample_types, data = metadata_veg, perm=1e3, na.rm = TRUE)\n",
    "v_ado_result\n",
    "\n",
    "# Betadisper vegetarian\n",
    "v_bd = betadisper(v_css_beta, metadata_veg$'sample_types')\n",
    "anova(v_bd)\n",
    "plot(v_bd)                                                    \n",
    "\n",
    "# Subset phyloseq_omn for samples with names starting with 'O'\n",
    "physeq_omn <- subset_samples(physeq, grepl(\"^O\", rownames(sample_data_df)))\n",
    "metadata_omn = data.frame(sample_data(physeq_omn))\n",
    "\n",
    "# ANOSIM omnivores\n",
    "anosim(phyloseq::distance(physeq_omn, method=\"bray\"), metadata_omn$sample_types)                          \n",
    "\n",
    "# ADONIS omnivores\n",
    "o_css_beta = distance(physeq_omn, method=\"bray\")\n",
    "o_ado_result = adonis2(o_css_beta ~ sample_types, data = metadata_omn, perm=1e3, na.rm = TRUE)\n",
    "o_ado_result\n",
    "\n",
    "# Betadisper omnivores\n",
    "o_bd = betadisper(o_css_beta, metadata_omn$'sample_types')\n",
    "anova(o_bd)\n",
    "plot(o_bd)                                                    "
   ]
  },
  {
   "cell_type": "markdown",
   "id": "b9e15a44-7cc2-4f7d-8171-7dab0708470b",
   "metadata": {},
   "source": [
    "### Functional annotation Pfams"
   ]
  },
  {
   "cell_type": "code",
   "execution_count": null,
   "id": "c68ba8d7-ed2d-40ea-ae5f-0bae91dc441a",
   "metadata": {
    "tags": []
   },
   "outputs": [],
   "source": [
    "# Building a clean phyloseq object for KOs annotations\n",
    "data <- read.table(\"bwa_pfam_matrix.tsv\", header = TRUE, sep = \"\\t\", row.names = 1)\n",
    "data <- data[!apply(data, 1, function(x) all(x == 0 | is.na(x))), ]\n",
    "data <- data[, apply(data, 2, function(x) any(x != 0))]\n",
    "otumat <- as.matrix(data[-1])\n",
    "OTU = otu_table(otumat, taxa_are_rows = TRUE)\n",
    "\n",
    "# Building metadata object with groups formation info (all individuals)\n",
    "second_elements <- sapply(strsplit(colnames(otumat), \"_\"), function(x) x[2])\n",
    "sampledata <- data.frame(sample_types = ifelse(grepl(\"HP\", second_elements), \"High\", \"Low\"))\n",
    "rownames(sampledata) = colnames(otumat)\n",
    "#head(sampledata, 15)\n",
    "                          \n",
    "SAM = sample_data(sampledata)\n",
    "physeq = phyloseq(OTU, SAM)\n",
    "metadata = data.frame(sample_data(physeq))\n",
    "\n",
    "# ANOSIM all individuals\n",
    "anosim(phyloseq::distance(physeq, method=\"bray\"), metadata$sample_types)                          \n",
    "                                                    \n",
    "# ADONIS all individuals\n",
    "css_beta = distance(physeq, method=\"bray\")\n",
    "ado_result = adonis2(css_beta ~ sample_types, data = metadata, perm=1e3, na.rm = TRUE)\n",
    "ado_result\n",
    "                          \n",
    "# Betadisper all individuals\n",
    "bd = betadisper(css_beta, metadata$'sample_types')\n",
    "anova(bd)\n",
    "\n",
    "options(repr.plot.width=10, repr.plot.height=10)\n",
    "plot(bd)                          "
   ]
  },
  {
   "cell_type": "code",
   "execution_count": null,
   "id": "56b99c4e-5cfd-4bb3-acb6-197414e0c9c7",
   "metadata": {
    "tags": []
   },
   "outputs": [],
   "source": [
    "# Separating vegetarian and omnivores\n",
    "# Extract the sample data\n",
    "sample_data_df <- sample_data(physeq)\n",
    "\n",
    "# Subset phyloseq_veg for samples with names starting with 'V'\n",
    "physeq_veg <- subset_samples(physeq, grepl(\"^V\", rownames(sample_data_df)))\n",
    "metadata_veg = data.frame(sample_data(physeq_veg))\n",
    "\n",
    "# ANOSIM vegetarian\n",
    "anosim(phyloseq::distance(physeq_veg, method=\"bray\"), metadata_veg$sample_types)                          \n",
    "\n",
    "# ADONIS vegetarian\n",
    "v_css_beta = distance(physeq_veg, method=\"bray\")\n",
    "v_ado_result = adonis2(v_css_beta ~ sample_types, data = metadata_veg, perm=1e3, na.rm = TRUE)\n",
    "v_ado_result\n",
    "\n",
    "# Betadisper vegetarian\n",
    "v_bd = betadisper(v_css_beta, metadata_veg$'sample_types')\n",
    "anova(v_bd)\n",
    "plot(v_bd)                                                    \n",
    "\n",
    "# Subset phyloseq_omn for samples with names starting with 'O'\n",
    "physeq_omn <- subset_samples(physeq, grepl(\"^O\", rownames(sample_data_df)))\n",
    "metadata_omn = data.frame(sample_data(physeq_omn))\n",
    "\n",
    "# ANOSIM omnivores\n",
    "anosim(phyloseq::distance(physeq_omn, method=\"bray\"), metadata_omn$sample_types)                          \n",
    "\n",
    "# ADONIS omnivores\n",
    "o_css_beta = distance(physeq_omn, method=\"bray\")\n",
    "o_ado_result = adonis2(o_css_beta ~ sample_types, data = metadata_omn, perm=1e3, na.rm = TRUE)\n",
    "o_ado_result\n",
    "\n",
    "# Betadisper omnivores\n",
    "o_bd = betadisper(o_css_beta, metadata_omn$'sample_types')\n",
    "anova(o_bd)\n",
    "plot(o_bd)                                                    "
   ]
  },
  {
   "cell_type": "code",
   "execution_count": null,
   "id": "9289668c-d973-47dd-ac56-23842deaa48c",
   "metadata": {},
   "outputs": [],
   "source": []
  },
  {
   "cell_type": "markdown",
   "id": "240dc308-aedb-4d58-86d4-242697e827be",
   "metadata": {},
   "source": [
    "## Features profiles analysis based on L-carnitine intervention on helath cohort 1 (all, omnivores, vegetarian)"
   ]
  },
  {
   "cell_type": "markdown",
   "id": "c84ee9b6-bd26-4848-b5b6-6449bc6001c9",
   "metadata": {},
   "source": [
    "### Taxonomic annotation at species level analysis"
   ]
  },
  {
   "cell_type": "code",
   "execution_count": null,
   "id": "86fd71b6-d129-477f-805a-85797529dab4",
   "metadata": {
    "tags": []
   },
   "outputs": [],
   "source": [
    "# Building a clean phyloseq object for taxonomic annotations\n",
    "data <- read.table(\"bwa_taxo_matrix.tsv\", header = TRUE, sep = \"\\t\", row.names = 1)\n",
    "data <- data[!apply(data, 1, function(x) all(x == 0 | is.na(x))), ]\n",
    "data <- data[, apply(data, 2, function(x) any(x != 0))]\n",
    "otumat <- as.matrix(data[-1])\n",
    "OTU = otu_table(otumat, taxa_are_rows = TRUE)\n",
    "\n",
    "# Building metadata object with groups formation info (all individuals)\n",
    "second_elements <- sapply(strsplit(colnames(otumat), \"_\"), function(x) x[2])\n",
    "sampledata <- data.frame(sample_types = ifelse(grepl(\"^C\", second_elements), \"Post\", \"Pre\"))\n",
    "rownames(sampledata) = colnames(otumat)\n",
    "#head(sampledata, 3)\n",
    "                          \n",
    "SAM = sample_data(sampledata)\n",
    "physeq = phyloseq(OTU, SAM)\n",
    "metadata = data.frame(sample_data(physeq))\n",
    "\n",
    "# ANOSIM all individuals\n",
    "anosim(phyloseq::distance(physeq_veg, method=\"bray\"), metadata_veg$sample_types)                          \n",
    "                          \n",
    "# ADONIS all individuals\n",
    "css_beta = distance(physeq, method=\"bray\")\n",
    "ado_result = adonis2(css_beta ~ sample_types, data = metadata, perm=1e3, na.rm = TRUE)\n",
    "ado_result"
   ]
  },
  {
   "cell_type": "code",
   "execution_count": null,
   "id": "7854ccbb-25d6-46ff-bf3f-cdb3429f7486",
   "metadata": {
    "tags": []
   },
   "outputs": [],
   "source": [
    "# Separating vegetarian and omnivores\n",
    "# Extract the sample data\n",
    "sample_data_df <- sample_data(physeq)\n",
    "\n",
    "# Subset phyloseq_veg for samples with names starting with 'V'\n",
    "physeq_veg <- subset_samples(physeq, grepl(\"^V\", rownames(sample_data_df)))\n",
    "metadata_veg = data.frame(sample_data(physeq_veg))\n",
    "\n",
    "# ANOSIM vegetarian\n",
    "anosim(phyloseq::distance(physeq_veg, method=\"bray\"), metadata_veg$sample_types)                          \n",
    "\n",
    "# ADONIS vegetarian\n",
    "v_css_beta = distance(physeq_veg, method=\"bray\")\n",
    "v_ado_result = adonis2(v_css_beta ~ sample_types, data = metadata_veg, perm=1e3, na.rm = TRUE)\n",
    "v_ado_result\n",
    "\n",
    "# Subset phyloseq_omn for samples with names starting with 'O'\n",
    "physeq_omn <- subset_samples(physeq, grepl(\"^O\", rownames(sample_data_df)))\n",
    "metadata_omn = data.frame(sample_data(physeq_omn))\n",
    "\n",
    "# ANOSIM omnivores\n",
    "anosim(phyloseq::distance(physeq_omn, method=\"bray\"), metadata_omn$sample_types)\n",
    "\n",
    "# ADONIS omnivores\n",
    "o_css_beta = distance(physeq_omn, method=\"bray\")\n",
    "o_ado_result = adonis2(o_css_beta ~ sample_types, data = metadata_omn, perm=1e3, na.rm = TRUE)\n",
    "o_ado_result"
   ]
  },
  {
   "cell_type": "markdown",
   "id": "23eedb33-0c62-4853-a769-9162baf77365",
   "metadata": {
    "tags": []
   },
   "source": [
    "### Functional annotation KOs"
   ]
  },
  {
   "cell_type": "code",
   "execution_count": null,
   "id": "45b8d52a-9b24-4e3e-92ab-7f7ca7ce7f49",
   "metadata": {
    "tags": []
   },
   "outputs": [],
   "source": [
    "# Building a clean phyloseq object for KOs annotations\n",
    "data <- read.table(\"bwa_kos_matrix.tsv\", header = TRUE, sep = \"\\t\", row.names = 1)\n",
    "data <- data[!apply(data, 1, function(x) all(x == 0 | is.na(x))), ]\n",
    "data <- data[, apply(data, 2, function(x) any(x != 0))]\n",
    "otumat <- as.matrix(data[-1])\n",
    "OTU = otu_table(otumat, taxa_are_rows = TRUE)\n",
    "\n",
    "# Building metadata object with groups formation info (all individuals)\n",
    "second_elements <- sapply(strsplit(colnames(otumat), \"_\"), function(x) x[2])\n",
    "sampledata <- data.frame(sample_types = ifelse(grepl(\"^C\", second_elements), \"Post\", \"Pre\"))\n",
    "rownames(sampledata) = colnames(otumat)\n",
    "#head(sampledata, 3)\n",
    "                          \n",
    "SAM = sample_data(sampledata)\n",
    "physeq = phyloseq(OTU, SAM)\n",
    "metadata = data.frame(sample_data(physeq))\n",
    "\n",
    "# ANOSIM all individuals\n",
    "anosim(phyloseq::distance(physeq, method=\"bray\"), metadata$sample_types)                          \n",
    "                                                  \n",
    "# ADONIS all individuals\n",
    "css_beta = distance(physeq, method=\"bray\")\n",
    "ado_result = adonis2(css_beta ~ sample_types, data = metadata, perm=1e3, na.rm = TRUE)\n",
    "ado_result"
   ]
  },
  {
   "cell_type": "code",
   "execution_count": null,
   "id": "5475cefa-d86b-47c3-bd8c-e2b14cb184fd",
   "metadata": {
    "tags": []
   },
   "outputs": [],
   "source": [
    "# Separating vegetarian and omnivores\n",
    "# Extract the sample data\n",
    "sample_data_df <- sample_data(physeq)\n",
    "\n",
    "# Subset phyloseq_veg for samples with names starting with 'V'\n",
    "physeq_veg <- subset_samples(physeq, grepl(\"^V\", rownames(sample_data_df)))\n",
    "metadata_veg = data.frame(sample_data(physeq_veg))\n",
    "\n",
    "# ANOSIM vegetarian\n",
    "anosim(phyloseq::distance(physeq_veg, method=\"bray\"), metadata_veg$sample_types)                          \n",
    "\n",
    "# ADONIS vegetarian\n",
    "v_css_beta = distance(physeq_veg, method=\"bray\")\n",
    "v_ado_result = adonis2(v_css_beta ~ sample_types, data = metadata_veg, perm=1e3, na.rm = TRUE)\n",
    "v_ado_result\n",
    "\n",
    "# Subset phyloseq_omn for samples with names starting with 'O'\n",
    "physeq_omn <- subset_samples(physeq, grepl(\"^O\", rownames(sample_data_df)))\n",
    "metadata_omn = data.frame(sample_data(physeq_omn))\n",
    "\n",
    "# ANOSIM omnivores\n",
    "anosim(phyloseq::distance(physeq_omn, method=\"bray\"), metadata_omn$sample_types)                  \n",
    "\n",
    "# ADONIS omnivores\n",
    "o_css_beta = distance(physeq_omn, method=\"bray\")\n",
    "o_ado_result = adonis2(o_css_beta ~ sample_types, data = metadata_omn, perm=1e3, na.rm = TRUE)\n",
    "o_ado_result"
   ]
  },
  {
   "cell_type": "markdown",
   "id": "ff22a76f-7037-4d2b-993f-518ed448d3b7",
   "metadata": {
    "tags": []
   },
   "source": [
    "### Functional annotation Pfams"
   ]
  },
  {
   "cell_type": "code",
   "execution_count": null,
   "id": "a67947a9-7dc3-4396-b1a6-302e31cc8ac5",
   "metadata": {
    "tags": []
   },
   "outputs": [],
   "source": [
    "# Building a clean phyloseq object for KOs annotations\n",
    "data <- read.table(\"bwa_pfam_matrix.tsv\", header = TRUE, sep = \"\\t\", row.names = 1)\n",
    "data <- data[!apply(data, 1, function(x) all(x == 0 | is.na(x))), ]\n",
    "data <- data[, apply(data, 2, function(x) any(x != 0))]\n",
    "otumat <- as.matrix(data[-1])\n",
    "OTU = otu_table(otumat, taxa_are_rows = TRUE)\n",
    "\n",
    "# Building metadata object with groups formation info (all individuals)\n",
    "second_elements <- sapply(strsplit(colnames(otumat), \"_\"), function(x) x[2])\n",
    "sampledata <- data.frame(sample_types = ifelse(grepl(\"^C\", second_elements), \"Post\", \"Pre\"))\n",
    "rownames(sampledata) = colnames(otumat)\n",
    "#head(sampledata, 3)\n",
    "                          \n",
    "SAM = sample_data(sampledata)\n",
    "physeq = phyloseq(OTU, SAM)\n",
    "metadata = data.frame(sample_data(physeq))\n",
    "\n",
    "# ANOSIM all individuals\n",
    "anosim(phyloseq::distance(physeq, method=\"bray\"), metadata$sample_types)                                                   \n",
    "                          \n",
    "# ADONIS all individuals\n",
    "css_beta = distance(physeq, method=\"bray\")\n",
    "ado_result = adonis2(css_beta ~ sample_types, data = metadata, perm=1e3, na.rm = TRUE)\n",
    "ado_result"
   ]
  },
  {
   "cell_type": "code",
   "execution_count": null,
   "id": "ada99707-e480-4b53-9166-2294aaabde83",
   "metadata": {
    "tags": []
   },
   "outputs": [],
   "source": [
    "# Separating vegetarian and omnivores\n",
    "# Extract the sample data\n",
    "sample_data_df <- sample_data(physeq)\n",
    "\n",
    "# Subset phyloseq_veg for samples with names starting with 'V'\n",
    "physeq_veg <- subset_samples(physeq, grepl(\"^V\", rownames(sample_data_df)))\n",
    "metadata_veg = data.frame(sample_data(physeq_veg))\n",
    "\n",
    "# ANOSIM vegetarian\n",
    "anosim(phyloseq::distance(physeq_veg, method=\"bray\"), metadata_veg$sample_types)                                               \n",
    "\n",
    "# ADONIS vegetarian\n",
    "v_css_beta = distance(physeq_veg, method=\"bray\")\n",
    "v_ado_result = adonis2(v_css_beta ~ sample_types, data = metadata_veg, perm=1e3, na.rm = TRUE)\n",
    "#v_ado_result\n",
    "\n",
    "# Subset phyloseq_omn for samples with names starting with 'O'\n",
    "physeq_omn <- subset_samples(physeq, grepl(\"^O\", rownames(sample_data_df)))\n",
    "metadata_omn = data.frame(sample_data(physeq_omn))\n",
    "\n",
    "# ANOSIM omnivores\n",
    "anosim(phyloseq::distance(physeq_omn, method=\"bray\"), metadata_omn$sample_types)                                               \n",
    "\n",
    "# ADONIS omnivores\n",
    "o_css_beta = distance(physeq_omn, method=\"bray\")\n",
    "o_ado_result = adonis2(o_css_beta ~ sample_types, data = metadata_omn, perm=1e3, na.rm = TRUE)\n",
    "#o_ado_result"
   ]
  },
  {
   "cell_type": "markdown",
   "id": "532879c1-c966-479a-8d54-71ebf2c953fb",
   "metadata": {
    "tags": []
   },
   "source": [
    "## Differentially abundant species between high and low TMAO producer groups\n",
    "### All individuals (species)"
   ]
  },
  {
   "cell_type": "code",
   "execution_count": null,
   "id": "1a576232-a369-4452-9190-368ca106c9db",
   "metadata": {
    "tags": []
   },
   "outputs": [],
   "source": [
    "suppressMessages({\n",
    "    library(ANCOMBC)\n",
    "})"
   ]
  },
  {
   "cell_type": "code",
   "execution_count": null,
   "id": "e2d1eb3b-f062-422f-b821-cc0097a251d1",
   "metadata": {
    "tags": []
   },
   "outputs": [],
   "source": [
    "# Building a clean phyloseq object for taxonomic annotations\n",
    "data <- read.table(\"bwa_taxo_matrix.tsv\", header = TRUE, sep = \"\\t\", row.names = 1)\n",
    "data <- data[!apply(data, 1, function(x) all(x == 0 | is.na(x))), ]\n",
    "data <- data[, apply(data, 2, function(x) any(x != 0))]\n",
    "otumat <- as.matrix(data)\n",
    "                     \n",
    "#otumat <- as.matrix(data[-1])\n",
    "OTU = otu_table(otumat, taxa_are_rows = TRUE)\n",
    "\n",
    "# Building metadata object with groups formation info (all individuals)\n",
    "second_elements <- sapply(strsplit(colnames(otumat), \"_\"), function(x) x[2])\n",
    "sampledata <- data.frame(sample_types = ifelse(grepl(\"^C\", second_elements), \"Post\", \"Pre\"))\n",
    "rownames(sampledata) = colnames(otumat)\n",
    "#head(sampledata, 3)\n",
    "\n",
    "SAM = sample_data(sampledata)\n",
    "physeq = phyloseq(OTU, SAM)\n",
    "physeq                        "
   ]
  },
  {
   "cell_type": "code",
   "execution_count": null,
   "id": "d1ddb747-8297-422c-bd54-b501bc066440",
   "metadata": {
    "tags": []
   },
   "outputs": [],
   "source": [
    "# Running ANCOMBC\n",
    "results <- ancombc2(physeq, \n",
    "                p_adj_method = \"bonferroni\",\n",
    "                fix_formula = \"sample_types\",\n",
    "                group = \"sample_types\")"
   ]
  },
  {
   "cell_type": "code",
   "execution_count": null,
   "id": "88b23b6b-6ca9-417b-aad2-c263447f5dd2",
   "metadata": {
    "tags": []
   },
   "outputs": [],
   "source": [
    "# Extracting results\n",
    "res_prim = results$res\n",
    "write.table(res_prim, \"ancombc2_species_all.tsv\", row.names = FALSE, col.names = TRUE, quote = FALSE, sep = \"\\t\")\n",
    "\n",
    "# Generating a plot from the differentially abundant species\n",
    "# Select the relevant columns including standard error and filter for significant results\n",
    "df_lfc <- res_prim %>%\n",
    "  dplyr::select(taxon, lfc_sample_typesPre, p_sample_typesPre, se_sample_typesPre) %>%\n",
    "  dplyr::filter(!is.na(lfc_sample_typesPre) & p_sample_typesPre < 0.05) %>%  # Filter for significant results\n",
    "  dplyr::arrange(desc(abs(lfc_sample_typesPre))) %>%  # Sort by absolute LFC to get top 10\n",
    "  #head(10) %>%  # Take top 10 species\n",
    "  dplyr::mutate(direct = ifelse(lfc_sample_typesPre > 0, \"Positive LFC\", \"Negative LFC\"),\n",
    "                color = ifelse(p_sample_typesPre < 0.05, \"aquamarine3\", \"black\"),\n",
    "                # Trim the species names to the last part (penultimate part)\n",
    "                taxon = sapply(strsplit(taxon, \";\"), function(x) ifelse(length(x) > 1, x[length(x) - 1], NA)))\n",
    "\n",
    "# Convert 'taxon' to factor with the order of appearance for plotting\n",
    "df_lfc$taxon = factor(df_lfc$taxon, levels = df_lfc$taxon)\n",
    "df_lfc$direct = factor(df_lfc$direct, levels = c(\"Positive LFC\", \"Negative LFC\"))\n",
    "\n",
    "# Plotting the differentially abundant species with error bars\n",
    "fig_lfc <- df_lfc %>%\n",
    "  ggplot(aes(x = taxon, y = lfc_sample_typesPre, fill = direct)) + \n",
    "  geom_bar(stat = \"identity\", width = 0.7, color = \"black\", \n",
    "           position = position_dodge(width = 0.4)) +\n",
    "  geom_errorbar(aes(ymin = lfc_sample_typesPre - se_sample_typesPre, \n",
    "                    ymax = lfc_sample_typesPre + se_sample_typesPre), \n",
    "                width = 0.2, position = position_dodge(0.05), color = \"black\") +\n",
    "  labs(x = NULL, y = \"Log fold change\", \n",
    "       title = \"Differentially abundant species (all individuals)\") + \n",
    "  scale_fill_discrete(name = NULL) +\n",
    "  scale_color_discrete(name = NULL) +\n",
    "  theme_bw() + \n",
    "  theme(plot.title = element_text(hjust = 0.5),\n",
    "        panel.grid.minor.y = element_blank(),\n",
    "        axis.text.x = element_text(angle = 60, hjust = 1,\n",
    "                                   color = df_lfc$color))\n",
    "          \n",
    "pdf(\"ancombc2_species_all.pdf\", width = 5, height = 5)\n",
    "fig_lfc\n",
    "dev.off()"
   ]
  },
  {
   "cell_type": "markdown",
   "id": "e655a757-8eb3-4004-a653-abcf761ad5d7",
   "metadata": {},
   "source": [
    "### Separating vegetarian and omnivores (species)"
   ]
  },
  {
   "cell_type": "code",
   "execution_count": null,
   "id": "f160dfb2-0ca7-47dd-b0a9-d34411ea9811",
   "metadata": {
    "tags": []
   },
   "outputs": [],
   "source": [
    "# Extract the sample data\n",
    "sample_data_df <- sample_data(physeq)\n",
    "\n",
    "# Subset phyloseq_veg for samples with names starting with 'V'\n",
    "physeq_veg <- subset_samples(physeq, grepl(\"^V\", rownames(sample_data_df)))\n",
    "\n",
    "# Running ANCOMBC\n",
    "results_veg <- ancombc2(physeq_veg, \n",
    "                p_adj_method = \"bonferroni\",\n",
    "                fix_formula = \"sample_types\",\n",
    "                group = \"sample_types\")\n",
    "\n",
    "res_prim_veg = results_veg$res\n",
    "write.table(res_prim_veg, \"ancombc2_species_veg.tsv\", row.names = FALSE, col.names = TRUE, quote = FALSE, sep = \"\\t\")\n",
    "\n",
    "\n",
    "# Subset phyloseq_omn for samples with names starting with 'O'\n",
    "physeq_omn <- subset_samples(physeq, grepl(\"^O\", rownames(sample_data_df)))\n",
    "\n",
    "# Running ANCOMBC\n",
    "results_omn <- ancombc2(physeq_omn, \n",
    "                p_adj_method = \"bonferroni\",\n",
    "                fix_formula = \"sample_types\",\n",
    "                group = \"sample_types\")\n",
    "res_prim_omn = results_omn$res\n",
    "write.table(res_prim_omn, \"ancombc2_species_omn.tsv\", row.names = FALSE, col.names = TRUE, quote = FALSE, sep = \"\\t\")"
   ]
  },
  {
   "cell_type": "code",
   "execution_count": null,
   "id": "facaa53c-6145-42be-9900-8773bb1ed83f",
   "metadata": {
    "tags": []
   },
   "outputs": [],
   "source": [
    "# Generating plot for vegetarians from the differentially abundant species\n",
    "# Select the relevant columns including standard error and filter for significant results\n",
    "df_lfc <- res_prim_veg %>%\n",
    "  dplyr::select(taxon, lfc_sample_typesPre, p_sample_typesPre, se_sample_typesPre) %>%\n",
    "  dplyr::filter(!is.na(lfc_sample_typesPre) & p_sample_typesPre < 0.05) %>%  # Filter for significant results\n",
    "  dplyr::arrange(desc(abs(lfc_sample_typesPre))) %>%  # Sort by absolute LFC to get top 10\n",
    "  #head(10) %>%  # Take top 10 species\n",
    "  dplyr::mutate(direct = ifelse(lfc_sample_typesPre > 0, \"Positive LFC\", \"Negative LFC\"),\n",
    "                color = ifelse(p_sample_typesPre < 0.05, \"aquamarine3\", \"black\"),\n",
    "                # Trim the species names to the last part (penultimate part)\n",
    "                taxon = sapply(strsplit(taxon, \";\"), function(x) ifelse(length(x) > 1, x[length(x) - 1], NA)))\n",
    "\n",
    "# Convert 'taxon' to factor with the order of appearance for plotting\n",
    "df_lfc$taxon = factor(df_lfc$taxon, levels = df_lfc$taxon)\n",
    "df_lfc$direct = factor(df_lfc$direct, levels = c(\"Positive LFC\", \"Negative LFC\"))\n",
    "\n",
    "# Plotting the differentially abundant species with error bars\n",
    "fig_lfc <- df_lfc %>%\n",
    "  ggplot(aes(x = taxon, y = lfc_sample_typesPre, fill = direct)) + \n",
    "  geom_bar(stat = \"identity\", width = 0.7, color = \"black\", \n",
    "           position = position_dodge(width = 0.4)) +\n",
    "  geom_errorbar(aes(ymin = lfc_sample_typesPre - se_sample_typesPre, \n",
    "                    ymax = lfc_sample_typesPre + se_sample_typesPre), \n",
    "                width = 0.2, position = position_dodge(0.05), color = \"black\") +\n",
    "  labs(x = NULL, y = \"Log fold change\", \n",
    "       title = \"Differentially abundant species (vegetarians)\") + \n",
    "  scale_fill_discrete(name = NULL) +\n",
    "  scale_color_discrete(name = NULL) +\n",
    "  theme_bw() + \n",
    "  theme(plot.title = element_text(hjust = 0.5),\n",
    "        panel.grid.minor.y = element_blank(),\n",
    "        axis.text.x = element_text(angle = 60, hjust = 1,\n",
    "                                   color = df_lfc$color))\n",
    "\n",
    "                               \n",
    "pdf(\"ancombc2_species_veg.pdf\", width = 5, height = 5)\n",
    "fig_lfc\n",
    "dev.off()"
   ]
  },
  {
   "cell_type": "code",
   "execution_count": null,
   "id": "e6823e89-a722-45c0-9f2c-0313f153ba68",
   "metadata": {
    "tags": []
   },
   "outputs": [],
   "source": [
    "# Generating a plot for omnivores the differentially abundant species\n",
    "# Select the relevant columns including standard error and filter for significant results\n",
    "df_lfc <- res_prim_omn %>%\n",
    "  dplyr::select(taxon, lfc_sample_typesPre, p_sample_typesPre, se_sample_typesPre) %>%\n",
    "  dplyr::filter(!is.na(lfc_sample_typesPre) & p_sample_typesPre < 0.05) %>%  # Filter for significant results\n",
    "  dplyr::arrange(desc(abs(lfc_sample_typesPre))) %>%  # Sort by absolute LFC to get top 10\n",
    "  #head(10) %>%  # Take top 10 species\n",
    "  dplyr::mutate(direct = ifelse(lfc_sample_typesPre > 0, \"Positive LFC\", \"Negative LFC\"),\n",
    "                color = ifelse(p_sample_typesPre < 0.05, \"aquamarine3\", \"black\"),\n",
    "                # Trim the species names to the last part (penultimate part)\n",
    "                taxon = sapply(strsplit(taxon, \";\"), function(x) ifelse(length(x) > 1, x[length(x) - 1], NA)))\n",
    "\n",
    "# Convert 'taxon' to factor with the order of appearance for plotting\n",
    "df_lfc$taxon = factor(df_lfc$taxon, levels = df_lfc$taxon)\n",
    "df_lfc$direct = factor(df_lfc$direct, levels = c(\"Positive LFC\", \"Negative LFC\"))\n",
    "\n",
    "# Plotting the differentially abundant species with error bars\n",
    "fig_lfc <- df_lfc %>%\n",
    "  ggplot(aes(x = taxon, y = lfc_sample_typesPre, fill = direct)) + \n",
    "  geom_bar(stat = \"identity\", width = 0.7, color = \"black\", \n",
    "           position = position_dodge(width = 0.4)) +\n",
    "  geom_errorbar(aes(ymin = lfc_sample_typesPre - se_sample_typesPre, \n",
    "                    ymax = lfc_sample_typesPre + se_sample_typesPre), \n",
    "                width = 0.2, position = position_dodge(0.05), color = \"black\") +\n",
    "  labs(x = NULL, y = \"Log fold change\", \n",
    "       title = \"Differentially abundant species (omnivores)\") + \n",
    "  scale_fill_discrete(name = NULL) +\n",
    "  scale_color_discrete(name = NULL) +\n",
    "  theme_bw() + \n",
    "  theme(plot.title = element_text(hjust = 0.5),\n",
    "        panel.grid.minor.y = element_blank(),\n",
    "        axis.text.x = element_text(angle = 60, hjust = 1,\n",
    "                                   color = df_lfc$color))\n",
    "\n",
    "pdf(\"ancombc2_species_omn.pdf\", width = 5, height = 5)\n",
    "fig_lfc\n",
    "dev.off()"
   ]
  },
  {
   "cell_type": "markdown",
   "id": "23773157-47af-448d-b064-335cd35e0625",
   "metadata": {},
   "source": [
    "## Differentially abundant KOs between hi and low TMAO producers using ANCOM-BC\n",
    "### All individuals (KOs)"
   ]
  },
  {
   "cell_type": "code",
   "execution_count": null,
   "id": "1f668594-bdf9-44ba-a474-b87fe44680af",
   "metadata": {
    "tags": []
   },
   "outputs": [],
   "source": [
    "# Building a clean phyloseq object for KO annotations\n",
    "data <- read.table(\"bwa_kos_matrix.tsv\", header = TRUE, sep = \"\\t\", row.names = 1)\n",
    "data <- data[!apply(data, 1, function(x) all(x == 0 | is.na(x))), ]\n",
    "data <- data[, apply(data, 2, function(x) any(x != 0))]\n",
    "otumat <- as.matrix(data)\n",
    "                     \n",
    "#otumat <- as.matrix(data[-1])\n",
    "OTU = otu_table(otumat, taxa_are_rows = TRUE)\n",
    "\n",
    "# Building metadata object with groups formation info (all individuals)\n",
    "second_elements <- sapply(strsplit(colnames(otumat), \"_\"), function(x) x[2])\n",
    "sampledata <- data.frame(sample_types = ifelse(grepl(\"HP\", second_elements), \"High\", \"Low\"))\n",
    "rownames(sampledata) = colnames(otumat)\n",
    "#head(sampledata, 3)\n",
    "\n",
    "SAM = sample_data(sampledata)\n",
    "physeq = phyloseq(OTU, SAM)\n",
    "physeq                        \n"
   ]
  },
  {
   "cell_type": "code",
   "execution_count": null,
   "id": "8b140e21-4fa7-42dd-be9b-b41803468143",
   "metadata": {
    "tags": []
   },
   "outputs": [],
   "source": [
    "# Running ANCOMBC\n",
    "results <- ancombc2(physeq, \n",
    "                p_adj_method = \"bonferroni\",\n",
    "                fix_formula = \"sample_types\",\n",
    "                group = \"sample_types\")\n",
    "# Extracting results\n",
    "res_prim = results$res\n",
    "write.table(res_prim, \"ancombc2_kos_all_LH.tsv\", row.names = FALSE, col.names = TRUE, quote = FALSE, sep = \"\\t\")\n",
    "                          "
   ]
  },
  {
   "cell_type": "code",
   "execution_count": null,
   "id": "60c9ba9d-d96a-4fd1-8004-5635ff8d705f",
   "metadata": {
    "tags": []
   },
   "outputs": [],
   "source": [
    "# Generating a plot from the differentially abundant KOs\n",
    "# Select the relevant columns including standard error and filter for significant results\n",
    "df_lfc <- res_prim %>%\n",
    "  dplyr::select(taxon, lfc_sample_typesPre, p_sample_typesPre, se_sample_typesPre) %>%\n",
    "  dplyr::filter(!is.na(lfc_sample_typesPre) & p_sample_typesPre < 0.05) %>%  # Filter for significant results\n",
    "  dplyr::arrange(desc(abs(lfc_sample_typesPre))) %>%  # Sort by absolute LFC to get top 10\n",
    "  head(20) %>%  # Take top 20 kos\n",
    "  dplyr::mutate(direct = ifelse(lfc_sample_typesPre > 0, \"Positive LFC\", \"Negative LFC\"),\n",
    "                color = ifelse(p_sample_typesPre < 0.05, \"aquamarine3\", \"black\"),\n",
    "                # Trim the species names to the last part (after last ';')\n",
    "                taxon = sapply(strsplit(taxon, \";\"), function(x) tail(x, 1)))\n",
    "\n",
    "# Convert 'taxon' to factor with the order of appearance for plotting\n",
    "df_lfc$taxon = factor(df_lfc$taxon, levels = df_lfc$taxon)\n",
    "df_lfc$direct = factor(df_lfc$direct, levels = c(\"Positive LFC\", \"Negative LFC\"))\n",
    "\n",
    "# Plotting the top 20 differentially abundant KOs with error bars\n",
    "fig_lfc <- df_lfc %>%\n",
    "  ggplot(aes(x = taxon, y = lfc_sample_typesPre, fill = direct)) + \n",
    "  geom_bar(stat = \"identity\", width = 0.7, color = \"black\", \n",
    "           position = position_dodge(width = 0.4)) +\n",
    "  geom_errorbar(aes(ymin = lfc_sample_typesPre - se_sample_typesPre, \n",
    "                    ymax = lfc_sample_typesPre + se_sample_typesPre), \n",
    "                width = 0.2, position = position_dodge(0.05), color = \"black\") +\n",
    "  labs(x = NULL, y = \"Log fold change\", \n",
    "       title = \"Differentially abundant KOs (all individuals)\") + \n",
    "  scale_fill_discrete(name = NULL) +\n",
    "  scale_color_discrete(name = NULL) +\n",
    "  theme_bw() + \n",
    "  theme(plot.title = element_text(hjust = 0.5),\n",
    "        panel.grid.minor.y = element_blank(),\n",
    "        axis.text.x = element_text(angle = 60, hjust = 1,\n",
    "                                   color = df_lfc$color))\n",
    "\n",
    "                               \n",
    "pdf(\"ancombc2_kos_all_LH.pdf\", width = 5, height = 5)\n",
    "fig_lfc\n",
    "dev.off()\n"
   ]
  },
  {
   "cell_type": "markdown",
   "id": "89df81c8-4c37-409f-a19f-cd70dac15439",
   "metadata": {},
   "source": [
    "### Separating vegetarian and omnivores (KOs)"
   ]
  },
  {
   "cell_type": "code",
   "execution_count": null,
   "id": "fc00600e-c047-4d06-9bda-bc8ddd5fb9d6",
   "metadata": {
    "tags": []
   },
   "outputs": [],
   "source": [
    "# Extract the sample data\n",
    "sample_data_df <- sample_data(physeq)\n",
    "\n",
    "# Subset phyloseq_veg for samples with names starting with 'V'\n",
    "physeq_veg <- subset_samples(physeq, grepl(\"^V\", rownames(sample_data_df)))\n",
    "\n",
    "# Running ANCOMBC\n",
    "results_veg <- ancombc2(physeq_veg, \n",
    "                p_adj_method = \"bonferroni\",\n",
    "                fix_formula = \"sample_types\",\n",
    "                group = \"sample_types\")\n",
    "\n",
    "res_prim_veg = results_veg$res\n",
    "write.table(res_prim_veg, \"ancombc2_kos_veg_HL.tsv\", row.names = FALSE, col.names = TRUE, quote = FALSE, sep = \"\\t\")\n",
    "\n"
   ]
  },
  {
   "cell_type": "code",
   "execution_count": null,
   "id": "6bdcad26-b340-4e52-9da1-1f9d55746cfc",
   "metadata": {
    "tags": []
   },
   "outputs": [],
   "source": [
    "\n",
    "# Subset phyloseq_omn for samples with names starting with 'O'\n",
    "physeq_omn <- subset_samples(physeq, grepl(\"^O\", rownames(sample_data_df)))\n",
    "\n",
    "# Running ANCOMBC\n",
    "results_omn <- ancombc2(physeq_omn, \n",
    "                p_adj_method = \"bonferroni\",\n",
    "                fix_formula = \"sample_types\",\n",
    "                group = \"sample_types\")\n",
    "res_prim_omn = results_omn$res\n",
    "write.table(res_prim_omn, \"ancombc2_kos_omn_LH.tsv\", row.names = FALSE, col.names = TRUE, quote = FALSE, sep = \"\\t\")"
   ]
  },
  {
   "cell_type": "code",
   "execution_count": null,
   "id": "4bc7aac5-9a81-41b1-93ab-70ad2fd83b30",
   "metadata": {
    "tags": []
   },
   "outputs": [],
   "source": [
    "# Generating a plots from the differentially abundant KOs for vegetarians\n",
    "# Select the relevant columns including standard error and filter for significant results\n",
    "df_lfc <- res_prim_veg %>%\n",
    "  dplyr::select(taxon, lfc_sample_typesPre, p_sample_typesPre, se_sample_typesPre) %>%\n",
    "  dplyr::filter(!is.na(lfc_sample_typesPre) & p_sample_typesPre < 0.05) %>%  # Filter for significant results\n",
    "  dplyr::arrange(desc(abs(lfc_sample_typesPre))) %>%  # Sort by absolute LFC to get top 10\n",
    "  head(20) %>%  # Take top 20 kos\n",
    "  dplyr::mutate(direct = ifelse(lfc_sample_typesPre > 0, \"Positive LFC\", \"Negative LFC\"),\n",
    "                color = ifelse(p_sample_typesPre < 0.05, \"aquamarine3\", \"black\"),\n",
    "                # Trim the species names to the last part (after last ';')\n",
    "                taxon = sapply(strsplit(taxon, \";\"), function(x) tail(x, 1)))\n",
    "\n",
    "# Convert 'taxon' to factor with the order of appearance for plotting\n",
    "df_lfc$taxon = factor(df_lfc$taxon, levels = df_lfc$taxon)\n",
    "df_lfc$direct = factor(df_lfc$direct, levels = c(\"Positive LFC\", \"Negative LFC\"))\n",
    "\n",
    "# Plotting the top 20 differentially abundant KOs with error bars\n",
    "fig_lfc <- df_lfc %>%\n",
    "  ggplot(aes(x = taxon, y = lfc_sample_typesPre, fill = direct)) + \n",
    "  geom_bar(stat = \"identity\", width = 0.7, color = \"black\", \n",
    "           position = position_dodge(width = 0.4)) +\n",
    "  geom_errorbar(aes(ymin = lfc_sample_typesPre - se_sample_typesPre, \n",
    "                    ymax = lfc_sample_typesPre + se_sample_typesPre), \n",
    "                width = 0.2, position = position_dodge(0.05), color = \"black\") +\n",
    "  labs(x = NULL, y = \"Log fold change\", \n",
    "       title = \"Differentially abundant KOs (vegetarian)\") + \n",
    "  scale_fill_discrete(name = NULL) +\n",
    "  scale_color_discrete(name = NULL) +\n",
    "  theme_bw() + \n",
    "  theme(plot.title = element_text(hjust = 0.5),\n",
    "        panel.grid.minor.y = element_blank(),\n",
    "        axis.text.x = element_text(angle = 60, hjust = 1,\n",
    "                                   color = df_lfc$color))\n",
    "          \n",
    "pdf(\"ancombc2_kos_veg_LH.pdf\", width = 5, height = 5)\n",
    "fig_lfc\n",
    "dev.off()\n"
   ]
  },
  {
   "cell_type": "code",
   "execution_count": null,
   "id": "a6e6824a-513c-4100-8bce-93bd1301494b",
   "metadata": {
    "tags": []
   },
   "outputs": [],
   "source": [
    "# Generating a plots from the differentially abundant KOs for omnivorous\n",
    "# Select the relevant columns including standard error and filter for significant results\n",
    "df_lfc <- res_prim_omn %>%\n",
    "  dplyr::select(taxon, lfc_sample_typesPre, p_sample_typesPre, se_sample_typesPre) %>%\n",
    "  dplyr::filter(!is.na(lfc_sample_typesPre) & p_sample_typesPre < 0.05) %>%  # Filter for significant results\n",
    "  dplyr::arrange(desc(abs(lfc_sample_typesPre))) %>%  # Sort by absolute LFC to get top 10\n",
    "  head(20) %>%  # Take top 20 kos\n",
    "  dplyr::mutate(direct = ifelse(lfc_sample_typesPre > 0, \"Positive LFC\", \"Negative LFC\"),\n",
    "                color = ifelse(p_sample_typesPre < 0.05, \"aquamarine3\", \"black\"),\n",
    "                # Trim the species names to the last part (after last ';')\n",
    "                taxon = sapply(strsplit(taxon, \";\"), function(x) tail(x, 1)))\n",
    "\n",
    "# Convert 'taxon' to factor with the order of appearance for plotting\n",
    "df_lfc$taxon = factor(df_lfc$taxon, levels = df_lfc$taxon)\n",
    "df_lfc$direct = factor(df_lfc$direct, levels = c(\"Positive LFC\", \"Negative LFC\"))\n",
    "\n",
    "# Plotting the top 20 differentially abundant KOs with error bars\n",
    "fig_lfc <- df_lfc %>%\n",
    "  ggplot(aes(x = taxon, y = lfc_sample_typesPre, fill = direct)) + \n",
    "  geom_bar(stat = \"identity\", width = 0.7, color = \"black\", \n",
    "           position = position_dodge(width = 0.4)) +\n",
    "  geom_errorbar(aes(ymin = lfc_sample_typesPre - se_sample_typesPre, \n",
    "                    ymax = lfc_sample_typesPre + se_sample_typesPre), \n",
    "                width = 0.2, position = position_dodge(0.05), color = \"black\") +\n",
    "  labs(x = NULL, y = \"Log fold change\", \n",
    "       title = \"Differentially abundant KOs (omnivorous)\") + \n",
    "  scale_fill_discrete(name = NULL) +\n",
    "  scale_color_discrete(name = NULL) +\n",
    "  theme_bw() + \n",
    "  theme(plot.title = element_text(hjust = 0.5),\n",
    "        panel.grid.minor.y = element_blank(),\n",
    "        axis.text.x = element_text(angle = 60, hjust = 1,\n",
    "                                   color = df_lfc$color))\n",
    "          \n",
    "pdf(\"ancombc2_kos_omn_LH.pdf\", width = 5, height = 5)\n",
    "fig_lfc\n",
    "dev.off()\n"
   ]
  },
  {
   "cell_type": "markdown",
   "id": "f7720f0e-213d-49e3-b1ce-506c404b69d7",
   "metadata": {},
   "source": [
    "## Differentially abundant KOs between hi and low TMAO producers using metagenomeSeq\n",
    "### All individuals (KOs)"
   ]
  },
  {
   "cell_type": "code",
   "execution_count": null,
   "id": "094ebe34-6112-41f1-a562-b7d7573a1525",
   "metadata": {
    "tags": []
   },
   "outputs": [],
   "source": [
    "# Building a clean phyloseq object for KO annotations\n",
    "data <- read.table(\"bwa_kos_matrix.tsv\", header = TRUE, sep = \"\\t\", row.names = 1)\n",
    "data <- data[!apply(data, 1, function(x) all(x == 0 | is.na(x))), ]\n",
    "data <- data[, apply(data, 2, function(x) any(x != 0))]\n",
    "otumat <- as.matrix(data)\n",
    "                     \n",
    "#otumat <- as.matrix(data[-1])\n",
    "OTU = otu_table(otumat, taxa_are_rows = TRUE)\n",
    "\n",
    "# Building metadata object with groups formation info (all individuals)\n",
    "second_elements <- sapply(strsplit(colnames(otumat), \"_\"), function(x) x[2])\n",
    "sampledata <- data.frame(sample_types = ifelse(grepl(\"HP\", second_elements), \"High\", \"Low\"))\n",
    "rownames(sampledata) = colnames(otumat)\n",
    "#head(sampledata, 3)\n",
    "\n",
    "SAM = sample_data(sampledata)\n",
    "physeq = phyloseq(OTU, SAM)\n",
    "physeq                        "
   ]
  },
  {
   "cell_type": "code",
   "execution_count": null,
   "id": "e84c1987-331d-48fc-991a-f49c00f2614a",
   "metadata": {
    "tags": []
   },
   "outputs": [],
   "source": [
    "# Convert phyloseq object to a metagenomeSeq object\n",
    "mgseq = phyloseq_to_metagenomeSeq(physeq)"
   ]
  },
  {
   "cell_type": "code",
   "execution_count": null,
   "id": "d6c4fb1d-5111-4fe1-a1e0-6dfc53b367dd",
   "metadata": {
    "tags": []
   },
   "outputs": [],
   "source": [
    "# Normalising\n",
    "p = cumNormStatFast(mgseq)\n",
    "mgseq_norm = cumNorm(mgseq, p = p)"
   ]
  },
  {
   "cell_type": "code",
   "execution_count": null,
   "id": "9aa5aee3-b05c-4bcd-a98f-f99520f1fb66",
   "metadata": {
    "tags": []
   },
   "outputs": [],
   "source": [
    "# Running differential abundance test\n",
    "suppressWarnings({\n",
    "    differential_test <- fitFeatureModel(mgseq_norm, mod = model.matrix(~sample_types, data = pData(mgseq_norm)))\n",
    "})"
   ]
  },
  {
   "cell_type": "code",
   "execution_count": null,
   "id": "12d891a8-0c34-4f13-bcb5-76427ba7b359",
   "metadata": {
    "tags": []
   },
   "outputs": [],
   "source": [
    "coef_results = MRcoefs(differential_test)"
   ]
  },
  {
   "cell_type": "code",
   "execution_count": null,
   "id": "18348f78-089f-4200-b430-c0d2e8a02531",
   "metadata": {
    "tags": []
   },
   "outputs": [],
   "source": [
    "write.table(coef_results, \"metagenomeseq_kos_all_LH.tsv\", row.names = TRUE, col.names = TRUE, quote = FALSE, sep = \"\\t\")"
   ]
  },
  {
   "cell_type": "code",
   "execution_count": null,
   "id": "ce75f434-be99-4fdc-ad85-64a8db2e238b",
   "metadata": {
    "tags": []
   },
   "outputs": [],
   "source": [
    "suppressWarnings({\n",
    "    differential_test_fz <- fitZig(mgseq_norm, mod = model.matrix(~sample_types, data = pData(mgseq_norm)))\n",
    "})"
   ]
  },
  {
   "cell_type": "code",
   "execution_count": null,
   "id": "71f796ef-5474-4945-8710-683eeb919e57",
   "metadata": {
    "tags": []
   },
   "outputs": [],
   "source": [
    "coef_results = MRcoefs(differential_test_fz)\n",
    "write.table(coef_results, \"fz_metagenomeseq_kos_all_LH.tsv\", row.names = TRUE, col.names = TRUE, quote = FALSE, sep = \"\\t\")"
   ]
  },
  {
   "cell_type": "markdown",
   "id": "382e645d-55dd-4dda-a443-e0a487437a2f",
   "metadata": {},
   "source": [
    "## Differentially abundant KOs between hi and low TMAO producers using maaslin3\n",
    "### All individuals (KOs)"
   ]
  },
  {
   "cell_type": "code",
   "execution_count": null,
   "id": "9e743ba8-a494-4ef6-93c0-e61de73cbe17",
   "metadata": {},
   "outputs": [],
   "source": [
    "library(maaslin3)"
   ]
  },
  {
   "cell_type": "code",
   "execution_count": null,
   "id": "df81fd1f-47e6-41d9-8ae2-560a3c242feb",
   "metadata": {
    "tags": []
   },
   "outputs": [],
   "source": [
    "# Reading the KOs table\n",
    "data <- read.table(\"bwa_kos_matrix.tsv\", header = TRUE, sep = \"\\t\", row.names = 1)\n",
    "data <- data[!apply(data, 1, function(x) all(x == 0 | is.na(x))), ]\n",
    "data <- data[, apply(data, 2, function(x) any(x != 0))]\n",
    "\n",
    "# Building metadata object with groups formation info (all individuals)\n",
    "second_elements <- sapply(strsplit(colnames(data), \"_\"), function(x) x[2])\n",
    "sampledata <- data.frame(sample_types = ifelse(grepl(\"HP\", second_elements), \"High\", \"Low\"))\n",
    "rownames(sampledata) = colnames(data)\n",
    "sampledata$reads <- 1000000"
   ]
  },
  {
   "cell_type": "code",
   "execution_count": null,
   "id": "09b8a720-463e-4bcd-ad21-d6d2b3abd374",
   "metadata": {},
   "outputs": [],
   "source": [
    "set.seed(1)\n",
    "fit_out <- maaslin3(input_data = data,\n",
    "                    input_metadata = sampledata,\n",
    "                    output = 'maaslin3_output',\n",
    "                    formula = '~ sample_types + reads',\n",
    "                    median_comparison_abundance = FALSE,\n",
    "                    max_pngs = 50)"
   ]
  },
  {
   "cell_type": "code",
   "execution_count": null,
   "id": "f7076cbf-cc81-475c-82b0-af55183afc2e",
   "metadata": {},
   "outputs": [],
   "source": []
  }
 ],
 "metadata": {
  "kernelspec": {
   "display_name": "R (mgnify-r-env)",
   "language": "R",
   "name": "conda-env-mgnify-r-env-r"
  },
  "language_info": {
   "codemirror_mode": "r",
   "file_extension": ".r",
   "mimetype": "text/x-r-source",
   "name": "R",
   "pygments_lexer": "r",
   "version": "4.2.3"
  }
 },
 "nbformat": 4,
 "nbformat_minor": 5
}
