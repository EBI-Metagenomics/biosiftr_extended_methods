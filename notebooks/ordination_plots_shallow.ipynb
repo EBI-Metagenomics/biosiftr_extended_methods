{
 "cells": [
  {
   "cell_type": "raw",
   "id": "d67cf0fc-4624-4036-a54a-7dc67a7f3369",
   "metadata": {
    "tags": []
   },
   "source": [
    "---\n",
    "title: \"Comparative metagenomics analysis for shallowmappimg pipeline validation on real data\"\n",
    "author:\n",
    "  - name: Alejandra Escobar\n",
    "    affiliation:\n",
    "      - id: ebi-emg\n",
    "        name: MGnify team at EMBL-EBI\n",
    "categories: [R]\n",
    "execute: \n",
    "  eval: false\n",
    "---"
   ]
  },
  {
   "cell_type": "code",
   "execution_count": null,
   "id": "c4900c9e-7d78-47f2-bb5f-f9d6d0ba0695",
   "metadata": {
    "tags": []
   },
   "outputs": [],
   "source": [
    "# Loading libraries:\n",
    "suppressMessages({    \n",
    "    library(data.table)\n",
    "    library(dplyr)\n",
    "    library(ggplot2)\n",
    "    library(IRdisplay)\n",
    "    library(phyloseq)\n",
    "    library(plyr)\n",
    "    library(stringr)\n",
    "    library(tidyverse)\n",
    "    library(vegan)\n",
    "})"
   ]
  },
  {
   "cell_type": "markdown",
   "id": "45ffadec-bcfc-4b3f-a786-c43857febb5c",
   "metadata": {},
   "source": [
    "# Reading KOs table and transforming into a phyloseq object"
   ]
  },
  {
   "cell_type": "code",
   "execution_count": null,
   "id": "9f00fd94-49bb-46da-84de-a948cec0d223",
   "metadata": {
    "tags": []
   },
   "outputs": [],
   "source": [
    "# Reading table\n",
    "data <- read.table(\"presabs_kos.tsv\", header = TRUE, sep = \"\\t\", row.names = 1)\n",
    "otumat <- as.matrix(data[-1])\n",
    "OTU = otu_table(otumat, taxa_are_rows = TRUE)\n",
    "#otumat"
   ]
  },
  {
   "cell_type": "code",
   "execution_count": null,
   "id": "a48d381a-71b3-4a73-b4bb-80e20f670da0",
   "metadata": {
    "tags": []
   },
   "outputs": [],
   "source": [
    "sampledata <- data.frame(sample_types = sub(\"^[^_]*_\", \"\", colnames(otumat)))\n",
    "rownames(sampledata) = colnames(otumat)\n",
    "head(sampledata)\n",
    "\n",
    "SAM = sample_data(sampledata)"
   ]
  },
  {
   "cell_type": "code",
   "execution_count": null,
   "id": "c7edaaab-baaf-42f1-8fb8-1af0ef51f0e2",
   "metadata": {
    "tags": []
   },
   "outputs": [],
   "source": [
    "physeq = phyloseq(OTU, SAM)"
   ]
  },
  {
   "cell_type": "code",
   "execution_count": null,
   "id": "bee11af7-400b-43ab-afd5-72c990347c62",
   "metadata": {
    "tags": []
   },
   "outputs": [],
   "source": [
    "physeq"
   ]
  },
  {
   "cell_type": "markdown",
   "id": "51ea2519-5884-47da-bc05-cd663ecf5dde",
   "metadata": {},
   "source": [
    "# Statistical analysis of groups comparison"
   ]
  },
  {
   "cell_type": "markdown",
   "id": "2c147db1-31ee-4d60-8756-908191431bc5",
   "metadata": {},
   "source": [
    "## Betadisper and Adonis2"
   ]
  },
  {
   "cell_type": "code",
   "execution_count": null,
   "id": "b4594325-dbf3-4449-8ce1-997eb78af415",
   "metadata": {
    "tags": []
   },
   "outputs": [],
   "source": [
    "metadata = data.frame(sample_data(physeq))\n",
    "css_beta = distance(physeq, method=\"bray\")\n",
    "ado_result = adonis2(css_beta ~ sample_types, data = metadata, perm=1e3)\n",
    "ado_result"
   ]
  },
  {
   "cell_type": "code",
   "execution_count": null,
   "id": "3d99f3d7-67b2-49b7-9520-62cba72c9d6b",
   "metadata": {
    "tags": []
   },
   "outputs": [],
   "source": [
    "bd = betadisper(css_beta, metadata$'sample_types')\n",
    "anova(bd)"
   ]
  },
  {
   "cell_type": "code",
   "execution_count": null,
   "id": "d263c437-d2fe-40ec-89af-13798fa90e3f",
   "metadata": {
    "tags": []
   },
   "outputs": [],
   "source": [
    "pdf(\"disp_kos_presabs.pdf\", width = 18, height = 5)\n",
    "boxplot(bd)\n",
    "dev.off()"
   ]
  },
  {
   "cell_type": "code",
   "execution_count": null,
   "id": "12259c36-51cf-46c3-88f2-1481ad2b14c3",
   "metadata": {
    "tags": []
   },
   "outputs": [],
   "source": [
    "options(repr.plot.width=10, repr.plot.height=10)\n",
    "plot(bd)"
   ]
  },
  {
   "cell_type": "code",
   "execution_count": null,
   "id": "a6c92ef6-c4e8-42e7-a877-2af8fbaaf62e",
   "metadata": {
    "tags": []
   },
   "outputs": [],
   "source": [
    "permutest(bd)"
   ]
  },
  {
   "cell_type": "markdown",
   "id": "078cff69-07b0-4ec0-8a94-180992eae634",
   "metadata": {},
   "source": [
    "## Pairwise ANOSIM"
   ]
  },
  {
   "cell_type": "code",
   "execution_count": null,
   "id": "bb6361b2-2e93-4f1e-a1e7-bf78b0e3627f",
   "metadata": {
    "tags": []
   },
   "outputs": [],
   "source": [
    "cbn <- combn(x = unique(metadata$sample_types), m = 2)\n",
    "p <- c()  # vector to store p values\n",
    "R <- c()  # vector to store R values\n",
    "\n",
    "for (i in 1:ncol(cbn)) {\n",
    "    ps.subs <- subset_samples(physeq, sample_types %in% cbn[, i])\n",
    "    metadata_sub <- data.frame(sample_data(ps.subs))\n",
    "    permanova_pairwise <- anosim(phyloseq::distance(ps.subs, method=\"bray\"), \n",
    "                                 metadata_sub$sample_types)\n",
    "    p <- c(p, permanova_pairwise$signif[1])  # Store p-values\n",
    "    R <- c(R, permanova_pairwise$statistic)  # Store R statistics\n",
    "}\n",
    "\n",
    "p.adj <- p.adjust(p, method = \"BH\")  # Adjust p-values\n",
    "p.table <- cbind.data.frame(t(cbn), R = R, p = p, p.adj = p.adj)  # Combine all results in a table\n",
    "\n",
    "write.table(p.table, \"pairwise_anosim.tsv\", row.names = FALSE, col.names = TRUE, quote = FALSE, sep = \"\\t\")"
   ]
  },
  {
   "cell_type": "markdown",
   "id": "5c4e4d08-a5e3-45e7-933b-95bc9b25c0d0",
   "metadata": {
    "tags": []
   },
   "source": [
    "## Pairwise ANOSIM heatmap"
   ]
  },
  {
   "cell_type": "markdown",
   "id": "cd2703ec-4568-472f-85f7-8e9121520171",
   "metadata": {},
   "source": [
    "### Criteria for R-value color codes:\n",
    "R-value Near 0:\n",
    "R ~ 0.0 to 0.2: This range typically suggests that there is little to no observable difference between the groups. The samples can be considered very similar in composition.\n",
    "\n",
    "Moderate R-values:\n",
    "R ~ 0.2 to 0.5: This range suggests moderate differentiation. Samples might be considered somewhat different, but the distinction isn't very strong. Interpretation in this range can depend on the sensitivity required in the study and the natural variability of the dataset.\n",
    "High R-values:\n",
    "\n",
    "R-value close to 1:\n",
    "R > 0.5: This range indicates strong differentiation between samples. The higher the R-value, especially approaching or exceeding 0.7, the more distinct the community compositions between the groups. Samples with these R-values can be considered to have different compositions.\n"
   ]
  },
  {
   "cell_type": "code",
   "execution_count": null,
   "id": "085124bc-f64c-4a5a-9bca-6e9aa48938fd",
   "metadata": {},
   "outputs": [],
   "source": [
    "library(pheatmap)\n",
    "data <- read.table(\"pairwise_anosim.tsv\", header = TRUE, sep = \"\\t\")\n",
    "# Building a matrix\n",
    "samples <- unique(c(data$X1, data$X2))\n",
    "r_matrix <- matrix(NA, nrow = length(samples), ncol = length(samples), \n",
    "                   dimnames = list(samples, samples))\n",
    "for (i in 1:nrow(data)) {\n",
    "    row <- which(samples == data$X1[i])\n",
    "    col <- which(samples == data$X2[i])\n",
    "    r_matrix[row, col] <- data$R[i]\n",
    "    r_matrix[col, row] <- data$R[i]  # Ensure the matrix is symmetric\n",
    "}\n",
    "\n",
    "desired_order <- c(\"pic\", \"mfp\", \"deep\", \"1_sm\", \"5_sm\", \"10_sm\", \"15_sm\", \"20_sm\", \"1_bwa\", \"5_bwa\", \"10_bwa\", \"15_bwa\", \"20_bwa\", \"1_sho\", \"5_sho\", \"10_sho\", \"15_sho\", \"20_sho\")\n",
    "r_matrix <- r_matrix[desired_order, desired_order]\n",
    "\n",
    "# Set the lower triangle to NA\n",
    "r_matrix[lower.tri(r_matrix)] <- NA\n",
    "\n",
    "# Define the colors and breaks\n",
    "colors <- c(\n",
    "  colorRampPalette(c(\"#a80202\", \"#ff6403\"))(20),    # Gradient from 0 to 0.2\n",
    "  colorRampPalette(c(\"#ff6403\", \"#ffda05\"))(30),    # Sharp change from 0.2 to 0.5\n",
    "  colorRampPalette(c(\"#ffda05\", \"black\"))(50)       # Sharp change from 0.5 to 1.0\n",
    ")\n",
    "breaks <- c(\n",
    "  seq(0, 0.2, length.out = 21),     # Breaks from 0 to 0.2\n",
    "  seq(0.2, 0.5, length.out = 31)[-1],   # Breaks from 0.2 to 0.5 (excluding duplicate 0.2)\n",
    "  seq(0.5, 1.0, length.out = 51)[-1]    # Breaks from 0.5 to 1.0 (excluding duplicate 0.5)\n",
    ")\n",
    "\n",
    "# Plot the heatmap\n",
    "pdf(\"rvalues_hp.pdf\", width = 7, height = 5)\n",
    "pheatmap(r_matrix,\n",
    "         color = colors,\n",
    "         breaks = breaks,\n",
    "         cluster_rows = FALSE,  # Disable clustering to preserve the order\n",
    "         cluster_cols = FALSE,  # Disable clustering to preserve the order\n",
    "         show_rownames = TRUE,\n",
    "         show_colnames = TRUE,\n",
    "         display_numbers = FALSE,\n",
    "         na_col = \"white\")  # Set the color for NA values\n",
    "dev.off()\n"
   ]
  },
  {
   "cell_type": "markdown",
   "id": "19aa5917-8873-440b-907c-840f02f77e49",
   "metadata": {},
   "source": [
    "# Ordination plots"
   ]
  },
  {
   "cell_type": "code",
   "execution_count": null,
   "id": "62259cfd-7d54-46bc-871c-8101952230a4",
   "metadata": {
    "tags": []
   },
   "outputs": [],
   "source": [
    "# Adding new groups to phyloseq object metadata\n",
    "sample_names <- colnames(otumat)\n",
    "\n",
    "# Initialize an empty dataframe for metadata\n",
    "new_sampledata <- data.frame(sample_name = sample_names, sample_group = character(length(sample_names)), stringsAsFactors = FALSE)\n",
    "\n",
    "# Function to determine sample_type based on the suffix\n",
    "get_sample_type <- function(sample_name) {\n",
    "  suffix <- sub(\"^[^_]*_\", \"\", sample_name)\n",
    "  if (suffix %in% c(\"1_sm\", \"5_sm\")) {\n",
    "    return(\"low_sm\")\n",
    "  } else if (suffix %in% c(\"10_sm\", \"15_sm\", \"20_sm\")) {\n",
    "    return(\"high_sm\")\n",
    "  } else if (suffix %in% c(\"1_bwa\", \"5_bwa\")) {\n",
    "    return(\"low_bwa\")\n",
    "  } else if (suffix %in% c(\"10_bwa\", \"15_bwa\", \"20_bwa\")) {\n",
    "    return(\"high_bwa\")\n",
    "  } else if (suffix %in% c(\"1_sho\", \"5_sho\")) {\n",
    "    return(\"low_sho\")\n",
    "  } else if (suffix %in% c(\"10_sho\", \"15_sho\", \"20_sho\")) {\n",
    "    return(\"high_sho\")\n",
    "  } else if (suffix == \"deep\") {\n",
    "    return(\"deep\")\n",
    "  } else if (suffix == \"mfp\") {\n",
    "    return(\"mfp\")\n",
    "  } else if (suffix == \"pic\") {\n",
    "    return(\"pic\")\n",
    "  } else {\n",
    "    return(NA)\n",
    "  }\n",
    "}\n",
    "\n",
    "# Apply the function to determine the sample_type for each sample_name\n",
    "new_sampledata$sample_group <- sapply(new_sampledata$sample_name, get_sample_type)\n",
    "rownames(new_sampledata) = colnames(otumat)\n",
    "\n",
    "sample_data(physeq)$'sample_group' = new_sampledata$sample_group\n",
    "\n",
    "head(sample_data(physeq))\n",
    "metadata = data.frame(sample_data(physeq))"
   ]
  },
  {
   "cell_type": "code",
   "execution_count": null,
   "id": "1fe62f16-6c90-41a1-8470-2a70a616c9d3",
   "metadata": {
    "tags": []
   },
   "outputs": [],
   "source": [
    "colorCode_sample <- c(\n",
    "  \"1_bwa\" = \"#000000\",\n",
    "  \"5_bwa\" = \"#E6194B\",\n",
    "  \"10_bwa\" = \"#3CB44B\",\n",
    "  \"15_bwa\" = \"#0082C8\",\n",
    "  \"20_bwa\" = \"#F58231\",\n",
    "  \"1_sm\" = \"#911EB4\",\n",
    "  \"5_sm\" = \"#46F0F0\",\n",
    "  \"10_sm\" = \"#F032E6\",\n",
    "  \"15_sm\" = \"#D2F53C\",\n",
    "  \"20_sm\" = \"#FABED4\",\n",
    "  \"deep\" = \"#008080\",\n",
    "  \"mfp\" = \"#DCBEFF\",\n",
    "  \"pic\" = \"#808080\"\n",
    ")\n",
    "\n",
    "\n",
    "colorCode_group <- c(\n",
    "  \"low_bwa\" = \"#D2F53C\",\n",
    "  \"high_bwa\" = \"#F58231\",\n",
    "  \"low_sm\" = \"#46F0F0\",\n",
    "  \"high_sm\" = \"#F032E6\",\n",
    "  \"deep\" = \"#000000\",\n",
    "  \"mfp\" = \"#DCBEFF\",\n",
    "  \"pic\" = \"#808080\",\n",
    "  \"low_sho\" = \"#E6194B\",\n",
    "  \"high_sho\" = \"#FFFF00\"\n",
    ")"
   ]
  },
  {
   "cell_type": "code",
   "execution_count": null,
   "id": "27591249-da9b-4c8b-b772-92340e601491",
   "metadata": {
    "tags": []
   },
   "outputs": [],
   "source": [
    "# Testing different ordination methods\n",
    "dist = \"bray\"\n",
    "ord_meths = c(\"DCA\", \"CCA\", \"RDA\", \"MDS\", \"PCoA\")\n",
    "plist = llply(as.list(ord_meths), function(i, physeq_obj, dist){\n",
    "        ordi = ordinate(physeq_obj, method=i, distance=dist)\n",
    "        plot_ordination(physeq_obj, ordi, \"samples\")\n",
    "}, physeq, dist)"
   ]
  },
  {
   "cell_type": "code",
   "execution_count": null,
   "id": "1aa2a259-6778-486a-82e2-3d7f4521cb16",
   "metadata": {
    "tags": []
   },
   "outputs": [],
   "source": [
    "names(plist) <- ord_meths\n",
    "pdataframe = ldply(plist, function(x){\n",
    "    df = x$data[, 1:2]\n",
    "    colnames(df) = c(\"Axis_1\", \"Axis_2\")\n",
    "    return(cbind(df, x$data))\n",
    "})\n",
    "names(pdataframe)[1] = \"method\""
   ]
  },
  {
   "cell_type": "code",
   "execution_count": null,
   "id": "1293d1d8-da33-45e9-b7e8-71b0bc1f8f4f",
   "metadata": {
    "tags": []
   },
   "outputs": [],
   "source": [
    "# Displaying the plots with all the methods to choose the best\n",
    "options(repr.plot.width=7, repr.plot.height=6)\n",
    "print_plots <- function() {\n",
    "    for (index in 1:5) {\n",
    "        p = plist[[index]] + geom_point(size=2, alpha=1, aes(color=metadata$sample_group)) + \n",
    "            stat_ellipse(level=0.9, type=\"norm\", geom=\"polygon\", alpha=0, aes(color=metadata$sample_group)) +\n",
    "            theme_bw() + \n",
    "            scale_color_manual(values=colorCode_group) +\n",
    "            labs(color = \"Sample groups\") \n",
    "        print(p)\n",
    "    }\n",
    "}\n",
    "print_plots()"
   ]
  },
  {
   "cell_type": "code",
   "execution_count": null,
   "id": "f0002d63-d409-4db1-896f-01ae907a46ea",
   "metadata": {
    "tags": []
   },
   "outputs": [],
   "source": [
    "# Generating the final figure in pdf\n",
    "options(repr.plot.width=6, repr.plot.height=5)\n",
    "pdf(\"RDA_real_kos.pdf\", width = 7, height = 6)\n",
    "p = plist[[3]] + geom_point(size=2, alpha=1, aes(color=metadata$sample_group)) + \n",
    "    stat_ellipse(level=0.9, type=\"norm\", geom=\"polygon\", alpha=0, aes(color=metadata$sample_group)) +\n",
    "    theme_bw() + \n",
    "    scale_color_manual(values=colorCode_group) +\n",
    "    labs(color = \"Sample groups\") \n",
    "p\n",
    "dev.off()"
   ]
  },
  {
   "cell_type": "markdown",
   "id": "5ca256a3-6b6c-49bb-9e87-df38691aaa80",
   "metadata": {},
   "source": [
    "## Hierarchical clustering"
   ]
  },
  {
   "cell_type": "code",
   "execution_count": null,
   "id": "db063a62-6e56-45ae-b138-46756eb5f32c",
   "metadata": {
    "tags": []
   },
   "outputs": [],
   "source": [
    "library(dendextend)\n",
    "data <- read.table(\"presabs_kos.tsv\", header = TRUE, sep = \"\\t\", row.names = 1)\n",
    "otumat <- as.matrix(data[-1])\n",
    "sampledata <- data.frame(sample_types = sub(\"^[^_]*_\", \"\", colnames(otumat)))\n",
    "rownames(sampledata) = colnames(otumat)\n",
    "colorCode <- c(\n",
    "  \"1_bwa\" = \"#000000\",\n",
    "  \"5_bwa\" = \"#E6194B\",\n",
    "  \"10_bwa\" = \"#3CB44B\",\n",
    "  \"15_bwa\" = \"#0082C8\",\n",
    "  \"20_bwa\" = \"#F58231\",\n",
    "  \"1_sm\" = \"#911EB4\",\n",
    "  \"5_sm\" = \"#46F0F0\",\n",
    "  \"10_sm\" = \"#F032E6\",\n",
    "  \"15_sm\" = \"#D2F53C\",\n",
    "  \"20_sm\" = \"#FABED4\",\n",
    "  \"deep\" = \"#008080\",\n",
    "  \"mfp\" = \"#DCBEFF\",\n",
    "  \"pic\" = \"#808080\"\n",
    ")\n",
    "bc_dist <- vegan::vegdist(t(otumat), method = \"bray\")\n",
    "ward <- as.dendrogram(hclust(bc_dist, method = \"ward.D2\"))\n",
    "plot_data <- as.dendrogram(ward)\n",
    "label_colors <- colorCode[sampledata$sample_types[order.dendrogram(plot_data)]]\n",
    "labels_colors(ward) <- label_colors\n",
    "\n",
    "pdf(\"real_kos_hclus.pdf\", width = 20, height = 8)\n",
    "par(mar = c(6, 2, 1, 1))\n",
    "plot(ward)\n",
    "legend(\"topright\", inset = c(0, 0), legend = names(colorCode), fill = colorCode, title = \"Sample Types\", cex = 1.5)\n",
    "dev.off()\n",
    "\n",
    "write.table(labels(plot_data), \"dendrogram_labels.txt\", row.names = FALSE, col.names = FALSE, quote = FALSE)\n"
   ]
  },
  {
   "cell_type": "markdown",
   "id": "4832b218-ddb6-40ee-bc53-9e6cf41511a0",
   "metadata": {},
   "source": [
    "# Reading taxonomic tables"
   ]
  },
  {
   "cell_type": "markdown",
   "id": "a6b280e8-3b06-418b-a4d2-e2aa01fa619f",
   "metadata": {
    "tags": []
   },
   "source": [
    "## Phylum heatmap"
   ]
  },
  {
   "cell_type": "code",
   "execution_count": null,
   "id": "09acab67-8eb3-467b-86d7-197dd867f798",
   "metadata": {},
   "outputs": [],
   "source": [
    "library(dplyr)\n",
    "library(RColorBrewer)\n",
    "library(ComplexHeatmap)\n",
    "\n",
    "\n",
    "# Phylum level heatmap\n",
    "data_1 <- read.csv(\"taxonomy_presabs_phylum.tsv\", sep = \"\\t\", header = TRUE, row.names = 1, check.names=FALSE)\n",
    "phylum_data = as.matrix(data_1)\n",
    "\n",
    "# Domain level heatmap\n",
    "data_2 <- read.csv(\"taxonomy_presabs_domain.tsv\", sep = \"\\t\", header = TRUE, row.names = 1, check.names=FALSE)\n",
    "dom_data = as.matrix(data_2)\n",
    "\n",
    "\n",
    "# Create the colors_names annotation\n",
    "sample_names <- names(data_1) \n",
    "\n",
    "# Initialize an empty dataframe for metadata\n",
    "new_sampledata <- data.frame(sample_name = sample_names, sample_group = character(length(sample_names)), stringsAsFactors = FALSE)\n",
    "\n",
    "# Function to determine sample_type based on the suffix\n",
    "get_sample_type <- function(sample_name) {\n",
    "  suffix <- sub(\"^[^_]*_\", \"\", sample_name)\n",
    "  if (suffix %in% c(\"1_sm\", \"5_sm\")) {\n",
    "    return(\"#46F0F0\")\n",
    "  } else if (suffix %in% c(\"10_sm\", \"15_sm\", \"20_sm\")) {\n",
    "    return(\"#F032E6\")\n",
    "  } else if (suffix %in% c(\"1_bwa\", \"5_bwa\")) {\n",
    "    return(\"#D2F53C\")\n",
    "  } else if (suffix %in% c(\"10_bwa\", \"15_bwa\", \"20_bwa\")) {\n",
    "    return(\"#F58231\")\n",
    "  } else if (suffix %in% c(\"1_sho\", \"5_sho\")) {\n",
    "    return(\"#E6194B\")\n",
    "  } else if (suffix %in% c(\"10_sho\", \"15_sho\", \"20_sho\")) {\n",
    "    return(\"#FFFF00\")\n",
    "  } else if (suffix == \"deep\") {\n",
    "    return(\"#000000\")\n",
    "  } else if (suffix == \"amp\") {\n",
    "    return(\"#c5b4d6\")\n",
    "  } else {\n",
    "    return(NA)\n",
    "  }\n",
    "}\n",
    "\n",
    "new_sampledata$sample_group <- sapply(new_sampledata$sample_name, get_sample_type)\n",
    "sampledata_list <- setNames(new_sampledata$sample_group, new_sampledata$sample_name)\n",
    "\n",
    "annotation = HeatmapAnnotation(Group = new_sampledata$sample_name, col = list(Group = sampledata_list), annotation_name_gp = gpar(fontsize = 8), annotation_legend_param = list(Group = list(at = NULL)))\n",
    "\n",
    "# Sorting the samples by name\n",
    "order_samples_by_prefix <- function(sample_names, prefix_list) {\n",
    "  column_order <- c()\n",
    "  for (prefix in prefix_list) {\n",
    "    matching_samples <- grep(paste0(prefix, \"$\"), sample_names, value = TRUE)\n",
    "    column_order <- c(column_order, matching_samples)\n",
    "  }\n",
    "  return(column_order)\n",
    "}\n",
    "prefix_list <- c(\n",
    "  \"_deep\",\n",
    "  \"_20_sm\",\n",
    "  \"_15_sm\",\n",
    "  \"_10_sm\",\n",
    "  \"_5_sm\",\n",
    "  \"_1_sm\",\n",
    "  \"_20_bwa\",\n",
    "  \"_15_bwa\",\n",
    "  \"_10_bwa\",\n",
    "  \"_5_bwa\",\n",
    "  \"_1_bwa\",\n",
    "  \"_20_sho\",\n",
    "  \"_15_sho\",\n",
    "  \"_10_sho\",\n",
    "  \"_5_sho\",\n",
    "  \"_1_sho\",\n",
    "  \"_amp\"\n",
    ")\n",
    "column_order <- order_samples_by_prefix(sample_names, prefix_list)\n",
    "\n",
    "ht_1 = Heatmap(phylum_data, \n",
    "        column_title = \"\", \n",
    "        row_title = \"\",\n",
    "        row_names_gp = gpar(fontsize = 7), # Text size for col names\n",
    "        col = c(\"#e0e0e0\", \"#02a8a2\"),\n",
    "        show_column_names = FALSE,\n",
    "        top_annotation = annotation,\n",
    "        show_heatmap_legend = FALSE,\n",
    "        column_order = column_order\n",
    ")\n",
    "\n",
    "ht_2 = Heatmap(dom_data, \n",
    "        column_title = \"\", \n",
    "        row_title = \"\",\n",
    "        row_names_gp = gpar(fontsize = 7), # Text size for col names\n",
    "        col = c(\"#e0e0e0\", \"#040285\"),\n",
    "        show_column_names = FALSE,\n",
    "        show_heatmap_legend = FALSE,\n",
    "        column_order = column_order\n",
    ")\n",
    "\n",
    "ht_list = ht_1 %v% ht_2\n",
    "\n",
    "pdf(\"heatmap_taxonomy.pdf\", width = 5, height = 5) \n",
    "draw(ht_list)\n",
    "dev.off()\n"
   ]
  },
  {
   "cell_type": "markdown",
   "id": "e857f6d6-e641-4e6d-8e09-4b08d6cb64cd",
   "metadata": {
    "tags": []
   },
   "source": [
    "## Groups comparison and ordination plots"
   ]
  },
  {
   "cell_type": "markdown",
   "id": "501f31ae-a4bc-44e8-9a5f-05ddcbba4b32",
   "metadata": {},
   "source": [
    "### Genus matrix to phyloseq object"
   ]
  },
  {
   "cell_type": "code",
   "execution_count": null,
   "id": "feaabdcf-aa16-46fb-af01-ecc6aa1e1560",
   "metadata": {
    "tags": []
   },
   "outputs": [],
   "source": [
    "# Reading table\n",
    "data <- read.table(\"taxonomy_presabs_genus.tsv\", header = TRUE, sep = \"\\t\", row.names = 1)\n",
    "otumat <- as.matrix(data[-1])\n",
    "OTU = otu_table(otumat, taxa_are_rows = TRUE)\n",
    "#otumat\n",
    "\n",
    "sampledata <- data.frame(sample_types = sub(\"^[^_]*_\", \"\", colnames(otumat)))\n",
    "rownames(sampledata) = colnames(otumat)\n",
    "SAM = sample_data(sampledata)\n",
    "physeq = phyloseq(OTU, SAM)\n",
    "\n",
    "physeq"
   ]
  },
  {
   "cell_type": "markdown",
   "id": "780c26c0-03bc-4f41-8f69-4c1b12620365",
   "metadata": {},
   "source": [
    "### Betadisper and Adonis2"
   ]
  },
  {
   "cell_type": "code",
   "execution_count": null,
   "id": "0b4a048a-0715-4b5e-94b7-5b32d7a7059c",
   "metadata": {
    "tags": []
   },
   "outputs": [],
   "source": [
    "metadata = data.frame(sample_data(physeq))\n",
    "css_beta = distance(physeq, method=\"bray\")\n",
    "ado_result = adonis2(css_beta ~ sample_types, data = metadata, perm=1e3)\n",
    "ado_result"
   ]
  },
  {
   "cell_type": "code",
   "execution_count": null,
   "id": "48f86317-3543-4701-ba09-42a4963ea5f9",
   "metadata": {
    "tags": []
   },
   "outputs": [],
   "source": [
    "bd = betadisper(css_beta, metadata$'sample_types')\n",
    "anova(bd)\n",
    "\n",
    "pdf(\"disp_taxo_genus_presabs.pdf\", width = 18, height = 5)\n",
    "boxplot(bd)\n",
    "dev.off()\n",
    "\n",
    "options(repr.plot.width=10, repr.plot.height=10)\n",
    "plot(bd)\n",
    "\n",
    "permutest(bd)"
   ]
  },
  {
   "cell_type": "markdown",
   "id": "0282aaf8-bb08-40ac-83fd-c19f78b65afa",
   "metadata": {
    "tags": []
   },
   "source": [
    "### Pairwise ANOSIM"
   ]
  },
  {
   "cell_type": "code",
   "execution_count": null,
   "id": "9dc05f5e-3afb-4c5f-9d3d-a068a34391ff",
   "metadata": {
    "tags": []
   },
   "outputs": [],
   "source": [
    "cbn <- combn(x = unique(metadata$sample_types), m = 2)\n",
    "p <- c()  # vector to store p values\n",
    "R <- c()  # vector to store R values\n",
    "\n",
    "for (i in 1:ncol(cbn)) {\n",
    "    ps.subs <- subset_samples(physeq, sample_types %in% cbn[, i])\n",
    "    metadata_sub <- data.frame(sample_data(ps.subs))\n",
    "    permanova_pairwise <- anosim(phyloseq::distance(ps.subs, method=\"bray\"), \n",
    "                                 metadata_sub$sample_types)\n",
    "    p <- c(p, permanova_pairwise$signif[1])  # Store p-values\n",
    "    R <- c(R, permanova_pairwise$statistic)  # Store R statistics\n",
    "}\n",
    "\n",
    "p.adj <- p.adjust(p, method = \"BH\")  # Adjust p-values\n",
    "p.table <- cbind.data.frame(t(cbn), R = R, p = p, p.adj = p.adj)  # Combine all results in a table\n",
    "\n",
    "write.table(p.table, \"pairwise_anosim_taxo_genus.tsv\", row.names = FALSE, col.names = TRUE, quote = FALSE, sep = \"\\t\")"
   ]
  },
  {
   "cell_type": "code",
   "execution_count": null,
   "id": "fa524f46-e09b-47ef-a9f7-270ffe4bb7e7",
   "metadata": {
    "tags": []
   },
   "outputs": [],
   "source": [
    "# Plotting heatmap\n",
    "library(pheatmap)\n",
    "data <- read.table(\"pairwise_anosim_taxo_genus.tsv\", header = TRUE, sep = \"\\t\")\n",
    "\n",
    "samples <- unique(c(data$X1, data$X2))\n",
    "r_matrix <- matrix(NA, nrow = length(samples), ncol = length(samples), \n",
    "                   dimnames = list(samples, samples))\n",
    "for (i in 1:nrow(data)) {\n",
    "    row <- which(samples == data$X1[i])\n",
    "    col <- which(samples == data$X2[i])\n",
    "    r_matrix[row, col] <- data$R[i]\n",
    "    r_matrix[col, row] <- data$R[i]  # Ensure the matrix is symmetric\n",
    "}\n",
    "\n",
    "desired_order <- c(\"amp\", \"deep\", \"1_sm\", \"5_sm\", \"10_sm\", \"15_sm\", \"20_sm\", \"1_bwa\", \"5_bwa\", \"10_bwa\", \"15_bwa\", \"20_bwa\", \"1_sho\", \"5_sho\", \"10_sho\", \"15_sho\", \"20_sho\")\n",
    "r_matrix <- r_matrix[desired_order, desired_order]\n",
    "\n",
    "# Set the lower triangle to NA\n",
    "r_matrix[lower.tri(r_matrix)] <- NA\n",
    "\n",
    "# Define the colors and breaks\n",
    "colors <- c(\n",
    "  colorRampPalette(c(\"#a80202\", \"#ff6403\"))(20),    # Gradient from 0 to 0.2\n",
    "  colorRampPalette(c(\"#ff6403\", \"#ffda05\"))(30),    # Sharp change from 0.2 to 0.5\n",
    "  colorRampPalette(c(\"#ffda05\", \"black\"))(50)       # Sharp change from 0.5 to 1.0\n",
    ")\n",
    "breaks <- c(\n",
    "  seq(0, 0.2, length.out = 21),     # Breaks from 0 to 0.2\n",
    "  seq(0.2, 0.5, length.out = 31)[-1],   # Breaks from 0.2 to 0.5 (excluding duplicate 0.2)\n",
    "  seq(0.5, 1.0, length.out = 51)[-1]    # Breaks from 0.5 to 1.0 (excluding duplicate 0.5)\n",
    ")\n",
    "\n",
    "# Plot the heatmap\n",
    "pdf(\"rvalues_hp_taxo_genus.pdf\", width = 7, height = 5)\n",
    "pheatmap(r_matrix,\n",
    "         color = colors,\n",
    "         breaks = breaks,\n",
    "         cluster_rows = FALSE,  # Disable clustering to preserve the order\n",
    "         cluster_cols = FALSE,  # Disable clustering to preserve the order\n",
    "         show_rownames = TRUE,\n",
    "         show_colnames = TRUE,\n",
    "         display_numbers = FALSE,\n",
    "         na_col = \"white\")  # Set the color for NA values\n",
    "dev.off()\n"
   ]
  },
  {
   "cell_type": "markdown",
   "id": "a000e46e-6c68-44eb-bb83-170b48543b7f",
   "metadata": {
    "tags": []
   },
   "source": [
    "### Ordination plots"
   ]
  },
  {
   "cell_type": "code",
   "execution_count": null,
   "id": "22deb95c-312e-4615-aa24-f79e817e6201",
   "metadata": {
    "tags": []
   },
   "outputs": [],
   "source": [
    "# Adding new groups to phyloseq object metadata\n",
    "sample_names <- colnames(otumat)\n",
    "\n",
    "# Initialize an empty dataframe for metadata\n",
    "new_sampledata <- data.frame(sample_name = sample_names, sample_group = character(length(sample_names)), stringsAsFactors = FALSE)\n",
    "\n",
    "# Function to determine sample_type based on the suffix\n",
    "get_sample_type <- function(sample_name) {\n",
    "  suffix <- sub(\"^[^_]*_\", \"\", sample_name)\n",
    "  if (suffix %in% c(\"1_sm\", \"5_sm\")) {\n",
    "    return(\"low_sm\")\n",
    "  } else if (suffix %in% c(\"10_sm\", \"15_sm\", \"20_sm\")) {\n",
    "    return(\"high_sm\")\n",
    "  } else if (suffix %in% c(\"1_bwa\", \"5_bwa\")) {\n",
    "    return(\"low_bwa\")\n",
    "  } else if (suffix %in% c(\"10_bwa\", \"15_bwa\", \"20_bwa\")) {\n",
    "    return(\"high_bwa\")\n",
    "  } else if (suffix %in% c(\"1_sho\", \"5_sho\")) {\n",
    "    return(\"low_sho\")\n",
    "  } else if (suffix %in% c(\"10_sho\", \"15_sho\", \"20_sho\")) {\n",
    "    return(\"high_sho\")\n",
    "  } else if (suffix == \"deep\") {\n",
    "    return(\"deep\")\n",
    "  } else if (suffix == \"amp\") {\n",
    "    return(\"amp\")\n",
    "  } else {\n",
    "    return(NA)\n",
    "  }\n",
    "}\n",
    "\n",
    "# Apply the function to determine the sample_type for each sample_name\n",
    "new_sampledata$sample_group <- sapply(new_sampledata$sample_name, get_sample_type)\n",
    "rownames(new_sampledata) = colnames(otumat)\n",
    "\n",
    "sample_data(physeq)$'sample_group' = new_sampledata$sample_group\n",
    "\n",
    "head(sample_data(physeq))\n",
    "metadata = data.frame(sample_data(physeq))"
   ]
  },
  {
   "cell_type": "code",
   "execution_count": null,
   "id": "2891bee5-eb65-40b5-8727-85859f1c1e45",
   "metadata": {
    "tags": []
   },
   "outputs": [],
   "source": [
    "colorCode_sample <- c(\n",
    "  \"1_bwa\" = \"#000000\",\n",
    "  \"5_bwa\" = \"#E6194B\",\n",
    "  \"10_bwa\" = \"#3CB44B\",\n",
    "  \"15_bwa\" = \"#0082C8\",\n",
    "  \"20_bwa\" = \"#F58231\",\n",
    "  \"1_sm\" = \"#911EB4\",\n",
    "  \"5_sm\" = \"#46F0F0\",\n",
    "  \"10_sm\" = \"#F032E6\",\n",
    "  \"15_sm\" = \"#D2F53C\",\n",
    "  \"20_sm\" = \"#FABED4\",\n",
    "  \"deep\" = \"#008080\",\n",
    "  \"amp\" = \"#c5b4d6\"\n",
    ")\n",
    "\n",
    "\n",
    "colorCode_group <- c(\n",
    "  \"low_bwa\" = \"#D2F53C\",\n",
    "  \"high_bwa\" = \"#F58231\",\n",
    "  \"low_sm\" = \"#46F0F0\",\n",
    "  \"high_sm\" = \"#F032E6\",\n",
    "  \"deep\" = \"#000000\",\n",
    "  \"amp\" = \"#c5b4d6\",\n",
    "  \"low_sho\" = \"#E6194B\",\n",
    "  \"high_sho\" = \"#FFFF00\"\n",
    ")\n"
   ]
  },
  {
   "cell_type": "code",
   "execution_count": null,
   "id": "fd7f3136-aae6-4e1e-81b6-326f8a9806f0",
   "metadata": {
    "tags": []
   },
   "outputs": [],
   "source": [
    "# Testing different ordination methods\n",
    "dist = \"bray\"\n",
    "ord_meths = c(\"DCA\", \"CCA\", \"RDA\", \"MDS\", \"PCoA\")\n",
    "plist = llply(as.list(ord_meths), function(i, physeq_obj, dist){\n",
    "        ordi = ordinate(physeq_obj, method=i, distance=dist)\n",
    "        plot_ordination(physeq_obj, ordi, \"samples\")\n",
    "}, physeq, dist)\n",
    "\n",
    "names(plist) <- ord_meths\n",
    "pdataframe = ldply(plist, function(x){\n",
    "    df = x$data[, 1:2]\n",
    "    colnames(df) = c(\"Axis_1\", \"Axis_2\")\n",
    "    return(cbind(df, x$data))\n",
    "})\n",
    "names(pdataframe)[1] = \"method\"\n",
    "\n",
    "# Displaying the plots with all the methods to choose the best\n",
    "options(repr.plot.width=7, repr.plot.height=6)\n",
    "print_plots <- function() {\n",
    "    for (index in 1:5) {\n",
    "        p = plist[[index]] + geom_point(size=2, alpha=1, aes(color=metadata$sample_group)) + \n",
    "            stat_ellipse(level=0.9, type=\"norm\", geom=\"polygon\", alpha=0, aes(color=metadata$sample_group)) +\n",
    "            theme_bw() + \n",
    "            scale_color_manual(values=colorCode_group) +\n",
    "            labs(color = \"Sample groups\") \n",
    "        print(p)\n",
    "    }\n",
    "}\n",
    "print_plots()\n"
   ]
  },
  {
   "cell_type": "code",
   "execution_count": null,
   "id": "deee701d-c643-46a5-b07a-6fc887143c34",
   "metadata": {
    "tags": []
   },
   "outputs": [],
   "source": [
    "# Generating the final figure in pdf\n",
    "options(repr.plot.width=6, repr.plot.height=5)\n",
    "pdf(\"RDA_taxo_genus.pdf\", width = 7, height = 6)\n",
    "p = plist[[3]] + geom_point(size=2, alpha=1, aes(color=metadata$sample_group)) + \n",
    "    stat_ellipse(level=0.9, type=\"norm\", geom=\"polygon\", alpha=0, aes(color=metadata$sample_group)) +\n",
    "    theme_bw() + \n",
    "    scale_color_manual(values=colorCode_group) +\n",
    "    labs(color = \"Sample groups\") \n",
    "p\n",
    "dev.off()"
   ]
  },
  {
   "cell_type": "code",
   "execution_count": null,
   "id": "3a6a5fcb-a742-4a0c-907c-b21560c6bda7",
   "metadata": {},
   "outputs": [],
   "source": []
  }
 ],
 "metadata": {
  "kernelspec": {
   "display_name": "R (mgnify-r-env)",
   "language": "R",
   "name": "conda-env-mgnify-r-env-r"
  },
  "language_info": {
   "codemirror_mode": "r",
   "file_extension": ".r",
   "mimetype": "text/x-r-source",
   "name": "R",
   "pygments_lexer": "r",
   "version": "4.2.3"
  }
 },
 "nbformat": 4,
 "nbformat_minor": 5
}
